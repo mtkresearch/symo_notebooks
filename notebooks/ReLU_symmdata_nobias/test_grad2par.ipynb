{
 "cells": [
  {
   "cell_type": "code",
   "execution_count": 1,
   "id": "534715f8",
   "metadata": {},
   "outputs": [],
   "source": [
    "import numpy as np\n",
    "import matplotlib.pyplot as plt\n",
    "\n",
    "import symmetric_methods as sm\n"
   ]
  },
  {
   "cell_type": "code",
   "execution_count": 2,
   "id": "b90e831c",
   "metadata": {},
   "outputs": [],
   "source": [
    "# MLP structure\n",
    "\n",
    "L = 7\n",
    "\n",
    "dim = np.zeros((L+1,))\n",
    "\n",
    "dim[0] = 3\n",
    "dim[1] = 4\n",
    "dim[2] = 5\n",
    "dim[3] = 6\n",
    "dim[4] = 7\n",
    "dim[5] = 8\n",
    "dim[6] = 9\n",
    "dim[7] = 10\n",
    "#dim[8] = 11\n",
    "#dim[9] = 12\n",
    "\n",
    "dim= dim.astype(int)\n"
   ]
  },
  {
   "cell_type": "code",
   "execution_count": 3,
   "id": "e44be257",
   "metadata": {},
   "outputs": [],
   "source": [
    "# draw random parameters, generate matrix and make it positive definite \n",
    "\n",
    "wm = np.random.normal(0,1,(L,))\n",
    "wd = np.random.normal(0,1,(4,L))\n",
    "wt = np.random.normal(0,1,(2,L-1))\n",
    "wo = np.random.normal(0,1,((L-2)*(L-1)//2,))\n",
    "\n",
    "#wt[1,:]=0\n",
    "#wd = np.zeros((4,L))\n",
    "#wt = np.zeros((2,L-1))\n",
    "#wo = np.zeros(((L-2)*(L-1)//2,))\n",
    "\n",
    "meang = sm.par2mean(L,dim,wm)\n",
    "covg = sm.par2cov(L,dim,wd,wt,wo)\n",
    "\n",
    "\n",
    "covg2 = covg @ covg\n",
    "evl, evc = np.linalg.eigh(covg2)\n",
    "sqrtcovg2 = (evc * np.sqrt(evl)) @ evc.T\n",
    "\n"
   ]
  },
  {
   "cell_type": "code",
   "execution_count": 6,
   "id": "be295da8",
   "metadata": {},
   "outputs": [],
   "source": [
    "# test the grad2par function with exact estimation\n",
    "\n",
    "npar = 0\n",
    "for iL in np.arange(0,L):\n",
    "    npar = npar + dim[iL] * dim[iL+1]\n",
    "npar = npar.astype(int)\n",
    "    \n",
    "grad = np.sqrt(npar) * sqrtcovg2\n",
    "\n",
    "wd2, wt2, wo2 = sm.cov2par(L,dim,covg2)\n",
    "\n",
    "#wm2est, wd2est, wt2est, wo2est = sm.grad2par(L,dim,grad)\n",
    "wm2est, wd2est, wt2est, wo2est = sm.grad2par_fast(L,dim,grad)\n",
    "\n",
    "meangest = sm.par2mean(L,dim,wm2est)\n",
    "covg2est = sm.par2cov(L,dim,wd2est,wt2est,wo2est)\n"
   ]
  },
  {
   "cell_type": "code",
   "execution_count": 7,
   "id": "db75d916",
   "metadata": {},
   "outputs": [
    {
     "data": {
      "image/png": "[encoded data removed]",
      "text/plain": [
       "<Figure size 640x480 with 1 Axes>"
      ]
     },
     "metadata": {},
     "output_type": "display_data"
    },
    {
     "name": "stdout",
     "output_type": "stream",
     "text": [
      "[3.21060120e+00 4.23034620e+00 1.22286025e-01 4.04933809e-02\n",
      " 9.75089464e-01 4.72905519e-02 2.62191390e-03]\n",
      "[3.21060120e+00 4.23034620e+00 1.22286025e-01 4.04933809e-02\n",
      " 9.75089464e-01 4.72905519e-02 2.62191390e-03]\n",
      "[-0.65644193 -1.80195099  5.37875242  0.48266773  5.40140034  1.12502671\n",
      "  1.6316347 ]\n",
      "[-0.65644193 -1.80195099  5.37875242  0.48266773  5.40140034  1.12502671\n",
      "  1.6316347 ]\n",
      "[-1.2618823   0.86593263  1.77762735  3.2236999  -0.6368827   3.52019409\n",
      "  0.33938753]\n",
      "[-1.2618823   0.86593263  1.77762735  3.2236999  -0.6368827   3.52019409\n",
      "  0.33938753]\n",
      "[ 9.51789284 21.14671831  4.21598649 14.00458142  8.5049068   5.83668311\n",
      "  0.97104965]\n",
      "[ 9.51789284 21.14671831  4.21598649 14.00458142  8.5049068   5.83668311\n",
      "  0.97104965]\n",
      "[-0.32657499 -2.12144186  0.93948154 -4.43971362 -0.33619291 -0.80322832]\n",
      "[-0.32657499 -2.12144186  0.93948154 -4.43971362 -0.33619291 -0.80322832]\n",
      "[ 7.37584471 -4.24949622 -3.7588603  -8.42774334  3.49636789  1.45729951]\n",
      "[ 7.37584471 -4.24949622 -3.7588603  -8.42774334  3.49636789  1.45729951]\n",
      "[-4.13877868 -4.50203904  1.73553549  5.18949907 -1.31629102  3.54711773\n",
      "  7.1515423   8.99077571 -5.73794584 -1.25003935 -0.68035672  2.124624\n",
      "  2.17547249 -0.86148274 -0.66351918]\n",
      "[-4.13877868 -4.50203904  1.73553549  5.18949907 -1.31629102  3.54711773\n",
      "  7.1515423   8.99077571 -5.73794584 -1.25003935 -0.68035672  2.124624\n",
      "  2.17547249 -0.86148274 -0.66351918]\n"
     ]
    }
   ],
   "source": [
    "\n",
    "plt.plot(covg2,covg2est,linestyle='none',marker='.')\n",
    "plt.plot([np.min(covg2), np.max(covg2)],[np.min(covg2), np.max(covg2)])\n",
    "plt.show()\n",
    "\n",
    "for ip in np.arange(0,4):\n",
    "    print(wd2[ip,:])\n",
    "    print(wd2est[ip,:])\n",
    "\n",
    "for ip in np.arange(0,2):\n",
    "    print(wt2[ip,:])\n",
    "    print(wt2est[ip,:])\n",
    "\n",
    "print(wo2)\n",
    "print(wo2est)\n"
   ]
  },
  {
   "cell_type": "code",
   "execution_count": null,
   "id": "e1a8ace6",
   "metadata": {},
   "outputs": [],
   "source": [
    "# test the grad2par function with approximate estimation (a small set of R vectors)\n",
    "\n",
    "R = 1000\n",
    "\n",
    "npar = 0\n",
    "for iL in np.arange(0,L):\n",
    "    npar = npar + dim[iL] * dim[iL+1]\n",
    "npar = npar.astype(int)\n",
    "    \n",
    "grad = np.random.normal(0.,1.,(npar,R))\n",
    "\n",
    "grad = sqrtcovg2 @ grad\n",
    "\n",
    "wd2, wt2, wo2 = sm.cov2par(L,dim,covg2)\n",
    "\n",
    "wm2est, wd2est, wt2est, wo2est = sm.grad2par(L,dim,grad)\n",
    "\n",
    "meangest = sm.par2mean(L,dim,wm2est)\n",
    "covg2est = sm.par2cov(L,dim,wd2est,wt2est,wo2est)\n"
   ]
  },
  {
   "cell_type": "code",
   "execution_count": null,
   "id": "ac456f10",
   "metadata": {},
   "outputs": [],
   "source": [
    "\n",
    "plt.plot(covg2,covg2est,linestyle='none',marker='.')\n",
    "plt.plot([np.min(covg2), np.max(covg2)],[np.min(covg2), np.max(covg2)])\n",
    "plt.show()\n",
    "\n",
    "for ip in np.arange(0,4):\n",
    "    print(wd2[ip,:])\n",
    "    print(wd2est[ip,:])\n",
    "\n",
    "for ip in np.arange(0,2):\n",
    "    print(wt2[ip,:])\n",
    "    print(wt2est[ip,:])\n",
    "\n",
    "print(wo2)\n",
    "print(wo2est)\n"
   ]
  },
  {
   "cell_type": "code",
   "execution_count": null,
   "id": "0efed5f8",
   "metadata": {},
   "outputs": [],
   "source": []
  },
  {
   "cell_type": "code",
   "execution_count": null,
   "id": "d27f16f0",
   "metadata": {},
   "outputs": [],
   "source": []
  }
 ],
 "metadata": {
  "kernelspec": {
   "display_name": "Python 3 (ipykernel)",
   "language": "python",
   "name": "python3"
  },
  "language_info": {
   "codemirror_mode": {
    "name": "ipython",
    "version": 3
   },
   "file_extension": ".py",
   "mimetype": "text/x-python",
   "name": "python",
   "nbconvert_exporter": "python",
   "pygments_lexer": "ipython3",
   "version": "3.9.13"
  }
 },
 "nbformat": 4,
 "nbformat_minor": 5
}
