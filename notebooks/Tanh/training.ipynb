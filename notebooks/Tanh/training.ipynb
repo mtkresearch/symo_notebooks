{
 "cells": [
  {
   "cell_type": "code",
   "execution_count": 1,
   "id": "1034b829",
   "metadata": {},
   "outputs": [],
   "source": [
    "import torch\n",
    "import torchvision\n",
    "import torchvision.transforms as transforms\n",
    "import numpy as np\n",
    "import time\n",
    "import matplotlib.pyplot as plt\n",
    "%matplotlib inline\n",
    "\n",
    "import symmetric_methods as sm\n"
   ]
  },
  {
   "cell_type": "code",
   "execution_count": 2,
   "id": "5342729f",
   "metadata": {},
   "outputs": [
    {
     "name": "stdout",
     "output_type": "stream",
     "text": [
      "9910\n"
     ]
    }
   ],
   "source": [
    "L=2\n",
    "\n",
    "dim = np.zeros((L+1,))\n",
    "\n",
    "dim[0] = 100\n",
    "dim[1] = 70\n",
    "dim[2] = 40\n",
    "#dim[3] = 10\n",
    "#dim[4] = 50\n",
    "#dim[5] = 50\n",
    "#dim[6] = 50\n",
    "#dim[7] = 50\n",
    "#dim[8] = 50\n",
    "#dim[9] = 50\n",
    "#dim[10] = 50\n",
    "\n",
    "dim= dim.astype(int)\n",
    "\n",
    "npar = 0\n",
    "cpar = np.zeros((L+1,))\n",
    "for iL in range(L):\n",
    "    npar = npar + (dim[iL]+1) * dim[iL+1]\n",
    "    cpar[iL+1] = npar\n",
    "npar = npar.astype(int)\n",
    "cpar = cpar.astype(int)\n",
    "\n",
    "print(npar)\n",
    "    \n",
    "num_train_data = 5000\n",
    "num_test_data = 5000\n",
    "\n",
    "noise = 0.0\n",
    "\n",
    "num_models = 1\n",
    "\n",
    "\n",
    "\n"
   ]
  },
  {
   "cell_type": "markdown",
   "id": "68e3e0d6",
   "metadata": {},
   "source": [
    "### Create Neural Network"
   ]
  },
  {
   "cell_type": "code",
   "execution_count": 3,
   "id": "e5e8fe49",
   "metadata": {},
   "outputs": [
    {
     "name": "stdout",
     "output_type": "stream",
     "text": [
      "9910\n"
     ]
    }
   ],
   "source": [
    "\n",
    "import torch.nn as nn\n",
    "import torch.nn.functional as F\n",
    "\n",
    "\n",
    "class Net(nn.Module):\n",
    "    def __init__(self):\n",
    "        super().__init__()\n",
    "        layers = [nn.Linear(dim[0],dim[1],bias=True)]\n",
    "        for iL in np.arange(1,L):\n",
    "            layers.append(nn.Tanh())\n",
    "            layers.append(nn.Linear(dim[iL],dim[iL+1],bias=True))        \n",
    "        self.layers = nn.Sequential(*layers)\n",
    "\n",
    "    def forward(self, x):\n",
    "        return self.layers(x)\n",
    "\n",
    "\n",
    "\n",
    "# Define a custom initialization function using Gaussian distribution\n",
    "def initialize_weights(m):\n",
    "    if isinstance(m, nn.Linear):\n",
    "        # Gaussian initialization \n",
    "        y = m.in_features\n",
    "        nn.init.normal_(m.weight, mean=0.0, std=1./np.sqrt(y)) \n",
    "        #nn.init.normal_(m.weight, mean=0.0, std=1.) \n",
    "        nn.init.normal_(m.bias, mean=0.0, std=1./np.sqrt(y))  \n",
    "\n",
    "\n",
    "        \n",
    "        \n",
    "nets = []\n",
    "nets0 = []\n",
    "\n",
    "for _ in range(num_models):\n",
    "    \n",
    "    # Create a new model and initialize its weights\n",
    "    net = Net()\n",
    "    net.apply(initialize_weights)\n",
    "    nets.append(net)\n",
    "    \n",
    "    # Create a \"backup\" of the initial weights\n",
    "    net0 = Net()\n",
    "    net0.load_state_dict(net.state_dict())  # Copy weights\n",
    "    nets0.append(net0)\n",
    "\n",
    "\n",
    "\n",
    "net_teacher = Net()\n",
    "net_teacher.apply(initialize_weights)\n",
    "\n",
    "'''\n",
    "net = Net()\n",
    "net.apply(initialize_weights)\n",
    "\n",
    "net0 = Net()\n",
    "net0.load_state_dict(net.state_dict())\n",
    "'''\n",
    "\n",
    "num_parameters = sum(param.numel() for param in net.parameters())\n",
    "print(num_parameters)\n"
   ]
  },
  {
   "cell_type": "code",
   "execution_count": null,
   "id": "295a7206",
   "metadata": {},
   "outputs": [],
   "source": [
    "# print list of all parameter tensors\n",
    "\n",
    "print(list(nets[0].parameters()))\n",
    "\n",
    "print(list(nets0[0].parameters()))\n"
   ]
  },
  {
   "cell_type": "markdown",
   "id": "1085f8b4",
   "metadata": {},
   "source": [
    "### Save model"
   ]
  },
  {
   "cell_type": "code",
   "execution_count": null,
   "id": "f02b55cc",
   "metadata": {},
   "outputs": [],
   "source": [
    "#PATH = './mlp_net.pth'\n",
    "#torch.save(net.state_dict(), PATH)\n",
    "#PATH = './mlp_net_teacher.pth'\n",
    "#torch.save(net_teacher.state_dict(), PATH)\n",
    "\n",
    "#PATH = './mlp_up_net.pth'\n",
    "#torch.save(net.state_dict(), PATH)\n",
    "#PATH = './mlp_up_net_teacher.pth'\n",
    "#torch.save(net_teacher.state_dict(), PATH)\n"
   ]
  },
  {
   "cell_type": "markdown",
   "id": "15b2f6fd",
   "metadata": {},
   "source": [
    "### Load model"
   ]
  },
  {
   "cell_type": "code",
   "execution_count": null,
   "id": "60be6e81",
   "metadata": {},
   "outputs": [],
   "source": [
    "\n",
    "PATH = './mlp_net.pth'\n",
    "net = Net()\n",
    "net.load_state_dict(torch.load(PATH))\n",
    "net0 = Net()\n",
    "net0.load_state_dict(torch.load(PATH))\n",
    "PATH = './mlp_net_teacher.pth'\n",
    "net_teacher = Net()\n",
    "net_teacher.load_state_dict(torch.load(PATH))\n",
    "\n",
    "\n",
    "'''\n",
    "PATH = './mlp_up_net.pth'\n",
    "net = Net()\n",
    "net.load_state_dict(torch.load(PATH))\n",
    "net0 = Net()\n",
    "net0.load_state_dict(torch.load(PATH))\n",
    "PATH = './mlp_up_net_teacher.pth'\n",
    "net_teacher = Net()\n",
    "net_teacher.load_state_dict(torch.load(PATH))\n",
    "'''"
   ]
  },
  {
   "cell_type": "markdown",
   "id": "e88691c1",
   "metadata": {},
   "source": [
    "### Input data"
   ]
  },
  {
   "cell_type": "code",
   "execution_count": 4,
   "id": "dc0e6fb3",
   "metadata": {},
   "outputs": [],
   "source": [
    "# gradient on linear regression has D ~ (unif)^(1/(1-beta)) --> p(D) ~ D^(-beta) --> Loss(t) ~ t^(beta-2)\n",
    "\n",
    "D = np.logspace(0,-5,dim[0])\n",
    "#D = 1./(np.linspace(1,1000,dim[0])**2)\n",
    "#D = np.linspace(0,1,dim[0])**2\n",
    "\n",
    "Sigma, R = np.linalg.qr(np.random.normal(np.zeros((dim[0],dim[0])),1))\n",
    "Sigma = (Sigma * D) @ Sigma.T\n",
    "inputs_train = torch.from_numpy(np.random.multivariate_normal(np.zeros((dim[0],)),Sigma,size=(num_train_data,))).to(torch.float)\n",
    "inputs_test = torch.from_numpy(np.random.multivariate_normal(np.zeros((dim[0],)),Sigma,size=(num_test_data,))).to(torch.float)\n",
    "\n",
    "\n",
    "\n",
    "\n"
   ]
  },
  {
   "cell_type": "markdown",
   "id": "e9d3f402",
   "metadata": {},
   "source": [
    "### Save input"
   ]
  },
  {
   "cell_type": "code",
   "execution_count": null,
   "id": "9f54acab",
   "metadata": {},
   "outputs": [],
   "source": [
    "#PATH = './mlp_inputs_train.pth'\n",
    "#torch.save(inputs_train, PATH)\n",
    "#PATH = './mlp_inputs_test.pth'\n",
    "#torch.save(inputs_test, PATH)\n",
    "\n",
    "#PATH = './mlp_up_inputs_train.pth'\n",
    "#torch.save(inputs_train, PATH)\n",
    "#PATH = './mlp_up_inputs_test.pth'\n",
    "#torch.save(inputs_test, PATH)\n",
    "\n"
   ]
  },
  {
   "cell_type": "markdown",
   "id": "4819e620",
   "metadata": {},
   "source": [
    "### Load input"
   ]
  },
  {
   "cell_type": "code",
   "execution_count": null,
   "id": "4dd770be",
   "metadata": {},
   "outputs": [],
   "source": [
    "\n",
    "PATH = './mlp_inputs_train.pth'\n",
    "inputs_train = torch.load(PATH)\n",
    "PATH = './mlp_inputs_test.pth'\n",
    "inputs_test = torch.load(PATH)\n",
    "\n",
    "\n",
    "#PATH = './mlp_up_inputs_train.pth'\n",
    "#inputs_train = torch.load(PATH)\n",
    "#PATH = './mlp_up_inputs_test.pth'\n",
    "#inputs_test = torch.load(PATH)\n"
   ]
  },
  {
   "cell_type": "markdown",
   "id": "9ccde7cb",
   "metadata": {},
   "source": [
    "### Output data"
   ]
  },
  {
   "cell_type": "code",
   "execution_count": 5,
   "id": "9500eb35",
   "metadata": {},
   "outputs": [],
   "source": [
    "\n",
    "with torch.no_grad():\n",
    "    labels_train = net_teacher(inputs_train) + torch.from_numpy(noise * np.random.normal(np.zeros((num_train_data,dim[L])),1)).to(torch.float)  \n",
    "with torch.no_grad():\n",
    "    labels_test = net_teacher(inputs_test) + torch.from_numpy(noise * np.random.normal(np.zeros((num_test_data,dim[L])),1)).to(torch.float)\n"
   ]
  },
  {
   "cell_type": "markdown",
   "id": "ddcc7413",
   "metadata": {},
   "source": [
    "### Learning rate"
   ]
  },
  {
   "cell_type": "code",
   "execution_count": 10,
   "id": "d65a4603",
   "metadata": {},
   "outputs": [],
   "source": [
    "\n",
    "lr = 0.5\n",
    "nepochs = 1000\n"
   ]
  },
  {
   "cell_type": "markdown",
   "id": "7fabb7ec",
   "metadata": {},
   "source": [
    "### Reset"
   ]
  },
  {
   "cell_type": "code",
   "execution_count": 11,
   "id": "44629f88",
   "metadata": {},
   "outputs": [],
   "source": [
    "\n",
    "for inet in range(num_models):\n",
    "    nets[inet].load_state_dict(nets0[inet].state_dict())\n",
    "    "
   ]
  },
  {
   "cell_type": "markdown",
   "id": "a6a326ff",
   "metadata": {},
   "source": [
    "### Training, gradient descent"
   ]
  },
  {
   "cell_type": "code",
   "execution_count": 12,
   "id": "019ba3fd",
   "metadata": {},
   "outputs": [
    {
     "name": "stdout",
     "output_type": "stream",
     "text": [
      "0\n",
      "10\n",
      "20\n",
      "30\n",
      "40\n",
      "50\n",
      "60\n",
      "70\n",
      "80\n",
      "90\n",
      "100\n",
      "110\n",
      "120\n",
      "130\n",
      "140\n",
      "150\n",
      "160\n",
      "170\n",
      "180\n",
      "190\n",
      "200\n",
      "210\n",
      "220\n",
      "230\n",
      "240\n",
      "250\n",
      "260\n",
      "270\n",
      "280\n",
      "290\n",
      "300\n",
      "310\n",
      "320\n",
      "330\n",
      "340\n",
      "350\n",
      "360\n",
      "370\n",
      "380\n",
      "390\n",
      "400\n",
      "410\n",
      "420\n",
      "430\n",
      "440\n",
      "450\n",
      "460\n",
      "470\n",
      "480\n",
      "490\n",
      "500\n",
      "510\n",
      "520\n",
      "530\n",
      "540\n",
      "550\n",
      "560\n",
      "570\n",
      "580\n",
      "590\n",
      "600\n",
      "610\n",
      "620\n",
      "630\n",
      "640\n",
      "650\n",
      "660\n",
      "670\n",
      "680\n",
      "690\n",
      "700\n",
      "710\n",
      "720\n",
      "730\n",
      "740\n",
      "750\n",
      "760\n",
      "770\n",
      "780\n",
      "790\n",
      "800\n",
      "810\n",
      "820\n",
      "830\n",
      "840\n",
      "850\n",
      "860\n",
      "870\n",
      "880\n",
      "890\n",
      "900\n",
      "910\n",
      "920\n",
      "930\n",
      "940\n",
      "950\n",
      "960\n",
      "970\n",
      "980\n",
      "990\n",
      "Finished Training\n"
     ]
    }
   ],
   "source": [
    "\n",
    "rec_time = 1\n",
    "nitera = int(nepochs/rec_time)\n",
    "\n",
    "running_trainloss = torch.zeros( (nitera,num_models) )\n",
    "running_testloss = torch.zeros( (nitera,num_models) )\n",
    "\n",
    "\n",
    "phi_rec = np.zeros((L-2,nepochs,num_models))\n",
    "ttphi_rec = np.zeros((L-1,nepochs,num_models))\n",
    "tPhi1_rec = np.zeros((dim[0],nepochs,num_models))\n",
    "tPhiL_rec = np.zeros((dim[L],nepochs,num_models))\n",
    "PHI1_rec = np.zeros((dim[0],dim[0],nepochs,num_models))\n",
    "PHIL_rec = np.zeros((dim[L],dim[L],nepochs,num_models))\n",
    "ttPHIL_rec = np.zeros((dim[L],dim[L],nepochs,num_models))\n",
    "tMuL_rec = np.zeros((dim[L],nepochs,num_models))\n",
    "\n",
    "\n",
    "grad_rec = np.zeros((num_parameters,nitera,num_models))\n",
    "\n",
    "#itera = 0    \n",
    "\n",
    "for epoch in range(nepochs):  # loop over the dataset multiple times\n",
    "\n",
    "    for inet in range(num_models):\n",
    "        \n",
    "        # print statistics\n",
    "        #if epoch % rec_time == rec_time-1:    # print every 'rec_time' mini-batches\n",
    "\n",
    "        with torch.no_grad():\n",
    "\n",
    "            outputs_train = nets[inet](inputs_train)\n",
    "            running_trainloss[epoch,inet] = torch.norm(outputs_train-labels_train)**2 / num_train_data / 2\n",
    "\n",
    "            outputs_test = nets[inet](inputs_test)\n",
    "            running_testloss[epoch,inet] = torch.norm(outputs_test-labels_test)**2 / num_test_data / 2\n",
    "\n",
    "        if epoch%(nepochs/100) == 0:\n",
    "            print(epoch)\n",
    "        #itera += 1\n",
    "\n",
    "        # Compute the loss\n",
    "        outputs_train = nets[inet](inputs_train)\n",
    "        loss = torch.norm(outputs_train-labels_train)**2 / num_train_data / 2\n",
    "\n",
    "        # Compute first-order gradients\n",
    "        grads = torch.autograd.grad(loss, nets[inet].parameters(), create_graph=False)\n",
    "        grad_vec_F = torch.cat([g.T.reshape(-1,1) for g in grads])\n",
    "        grad_vec_C = torch.cat([g.view(-1) for g in grads])\n",
    "\n",
    "        grad_np = grad_vec_F.numpy()\n",
    "        grad_rec[:,epoch,inet] = grad_np.reshape((num_parameters,))\n",
    "        phi_rec[:,epoch,inet],ttphi_rec[:,epoch,inet],tPhi1_rec[:,epoch,inet],tPhiL_rec[:,epoch,inet],PHI1_rec[:,:,epoch,inet],PHIL_rec[:,:,epoch,inet],ttPHIL_rec[:,:,epoch,inet],tMuL_rec[:,epoch,inet] = sm.grad2par(L,dim,grad_np)\n",
    "        \n",
    "        param_vec = torch.nn.utils.parameters_to_vector(nets[inet].parameters())\n",
    "        torch.nn.utils.vector_to_parameters( param_vec - lr * grad_vec_C , nets[inet].parameters())    \n",
    "\n",
    "print('Finished Training')"
   ]
  },
  {
   "cell_type": "code",
   "execution_count": 15,
   "id": "8bb7418d",
   "metadata": {},
   "outputs": [
    {
     "data": {
      "image/png": "[encoded data removed]",
      "text/plain": [
       "<Figure size 432x288 with 1 Axes>"
      ]
     },
     "metadata": {
      "needs_background": "light"
     },
     "output_type": "display_data"
    }
   ],
   "source": [
    "\n",
    "plt.plot(np.arange(1,nepochs+1),running_trainloss)\n",
    "plt.plot(np.arange(1,nepochs+1),running_testloss)\n",
    "#plt.xscale('log')\n",
    "plt.yscale('log')\n",
    "\n",
    "#plt.ylim(10**(-5),10**(1))\n",
    "#plt.xlim(1,1000)\n",
    "\n",
    "plt.show()\n"
   ]
  },
  {
   "cell_type": "code",
   "execution_count": 16,
   "id": "c46cda76",
   "metadata": {},
   "outputs": [],
   "source": [
    "\n",
    "running_trainloss_gd = torch.clone(running_trainloss)\n",
    "running_testloss_gd = torch.clone(running_testloss)\n"
   ]
  },
  {
   "cell_type": "code",
   "execution_count": 17,
   "id": "4a01eb35",
   "metadata": {},
   "outputs": [],
   "source": [
    "\n",
    "# remove the squared mean\n",
    "\n",
    "\n",
    "# This is going to be zero, unless estimated over multiple models\n",
    "ttPHIL_cov = np.copy(ttPHIL_rec)\n",
    "for epoch in range(nepochs):  \n",
    "    for inet in range(num_models):\n",
    "        ttPHIL_cov[:,:,epoch,inet] = np.squeeze(ttPHIL_rec[:,:,epoch,inet]) - np.reshape(tMuL_rec[:,epoch,inet],(dim[L],1)) @ np.reshape(tMuL_rec[:,epoch,inet],(1,dim[L]))\n",
    "\n",
    "\n",
    "\n",
    "eigrec = np.zeros((dim[0]+1+2*(L-2)+2*dim[L],nepochs,num_models))\n",
    "for epoch in range(nepochs):\n",
    "    for inet in range(num_models):\n",
    "        eigrec[:,epoch,inet] = sm.eig_unique(L,dim,np.reshape(phi_rec[:,epoch,inet],(L-2,)),np.reshape(ttphi_rec[:,epoch,inet],(L-1,)),np.squeeze(tPhi1_rec[:,epoch,inet]),np.squeeze(tPhiL_rec[:,epoch,inet]),np.squeeze(PHI1_rec[:,:,epoch,inet]),np.squeeze(PHIL_rec[:,:,epoch,inet]),np.squeeze(ttPHIL_cov[:,:,epoch,inet]))\n"
   ]
  },
  {
   "cell_type": "code",
   "execution_count": 18,
   "id": "d033bf5d",
   "metadata": {},
   "outputs": [
    {
     "name": "stdout",
     "output_type": "stream",
     "text": [
      "[]\n",
      "\n",
      "\n",
      "0.020321750640869142\n",
      "\n",
      "\n",
      "[ 1.08358865e-04 -1.43911224e-04 -2.30994774e-04  3.40182916e-04\n",
      " -6.55528100e-04  2.00538198e-04  5.79221080e-07  1.70585146e-04\n",
      " -2.40054855e-04  6.28215494e-04 -4.40197502e-04 -4.22796060e-04\n",
      "  1.92630585e-04 -2.35833388e-04 -1.71655454e-04 -9.53996088e-04\n",
      " -4.14394919e-04 -1.34098798e-03  3.50151706e-04  4.22240526e-04\n",
      "  4.47052706e-04  1.67923688e-04 -4.00562189e-04 -1.01698381e-04\n",
      " -7.83073920e-05 -1.58469149e-04 -3.87857115e-04 -5.16219880e-04\n",
      " -3.13703582e-04  1.66540252e-04  2.53751408e-04 -9.68163367e-04\n",
      "  3.80781596e-04  4.40283948e-05 -3.05434543e-04 -3.89460220e-05\n",
      "  4.42228600e-04  6.21012005e-04  4.36430943e-04  4.62367607e-05\n",
      "  2.47347780e-04 -3.95403360e-04  4.25705221e-04  9.29991773e-04\n",
      "  3.61507962e-04 -2.31623591e-04  2.08747224e-04  1.32282294e-04\n",
      " -1.48577019e-04 -8.78423685e-04 -5.91480639e-04 -7.35992580e-05\n",
      "  8.02623050e-04  2.91295117e-04 -3.90748406e-04  8.87859496e-05\n",
      " -3.53950425e-04 -4.42853896e-04  3.86050553e-04  9.53513896e-04\n",
      " -2.78533007e-05 -1.46977705e-04 -4.72909858e-04 -2.38449953e-04\n",
      " -5.74167527e-04  4.65580233e-04  9.02300351e-04  2.52196682e-04\n",
      "  4.72169806e-04  7.74919696e-04  1.20256655e-03 -6.74927898e-04\n",
      "  5.68301999e-04 -1.04836095e-03 -3.71013564e-04  1.00982375e-03\n",
      " -5.72655466e-04  5.87709423e-04 -6.02687651e-04  4.50247579e-04\n",
      " -7.16428680e-04  1.52061621e-04 -1.66336777e-05  2.24076983e-04\n",
      "  3.92371032e-04  7.81552051e-04  2.38078675e-04  1.31783905e-04\n",
      "  4.77074245e-05 -6.26381719e-04  4.49470099e-04 -1.32437132e-03\n",
      " -8.55596591e-05 -8.53598758e-04 -9.72667767e-04 -1.00054982e-04\n",
      "  7.54898705e-04 -3.75680771e-04  7.41585973e-05  6.63300045e-04]\n",
      "\n",
      "\n",
      "[-2.13435618e-04 -3.57066834e-04 -8.74316829e-05  5.63936657e-04\n",
      " -3.51635594e-04 -1.80755000e-04 -3.70480207e-04 -6.70393754e-04\n",
      "  6.95314084e-04 -1.10632984e-03 -4.62423428e-04 -4.46941762e-04\n",
      " -6.55583935e-05  2.65274255e-04  2.18576548e-04  1.13922253e-03\n",
      " -8.13184946e-04  5.37026266e-04  4.31577122e-04 -1.48162351e-03\n",
      " -3.69425223e-04  5.30250254e-04  9.03126202e-05  5.40215580e-04\n",
      "  3.66843131e-04  1.01432297e-03  2.66966585e-04  1.23719033e-03\n",
      " -3.34561570e-04  5.11858321e-04  1.09479472e-03 -1.30423417e-04\n",
      "  6.04627385e-05 -1.42469408e-03  8.52740312e-04 -1.95380679e-04\n",
      "  1.26335642e-03  1.66888767e-05  7.49009370e-04 -1.42915163e-03]\n",
      "\n",
      "\n",
      "[[ 6.19352431e-05 -1.58749481e-06 -3.83825245e-05 ... -5.76630227e-05\n",
      "   3.85677959e-05  3.38332793e-05]\n",
      " [-1.58749481e-06  3.59130965e-04 -1.17750948e-04 ...  1.23239894e-04\n",
      "   5.02406401e-05  7.46569640e-05]\n",
      " [-3.83825245e-05 -1.17750948e-04  3.31745599e-04 ...  2.14351632e-04\n",
      "  -7.11330358e-05 -1.34524773e-04]\n",
      " ...\n",
      " [-5.76630227e-05  1.23239894e-04  2.14351632e-04 ...  3.98910430e-04\n",
      "  -7.02953330e-05 -1.10367168e-04]\n",
      " [ 3.85677959e-05  5.02406401e-05 -7.11330358e-05 ... -7.02953330e-05\n",
      "   2.59052205e-04  2.04105425e-04]\n",
      " [ 3.38332793e-05  7.46569640e-05 -1.34524773e-04 ... -1.10367168e-04\n",
      "   2.04105425e-04  3.41043167e-04]]\n",
      "\n",
      "\n",
      "[[ 1.11744541e-03  2.57246895e-04 -2.77319486e-04 ... -2.51750625e-05\n",
      "   1.69845924e-04  7.48495731e-05]\n",
      " [ 2.57246895e-04  7.94612220e-04  1.02399435e-05 ...  2.13811709e-05\n",
      "  -7.22222088e-04  2.98521569e-04]\n",
      " [-2.77319486e-04  1.02399435e-05  1.06077781e-03 ... -4.26198414e-04\n",
      "   9.14226839e-05 -1.31900757e-04]\n",
      " ...\n",
      " [-2.51750625e-05  2.13811709e-05 -4.26198414e-04 ...  5.75566781e-04\n",
      "  -6.72584938e-05  1.69235645e-04]\n",
      " [ 1.69845924e-04 -7.22222088e-04  9.14226839e-05 ... -6.72584938e-05\n",
      "   1.46162324e-03 -1.60686264e-04]\n",
      " [ 7.48495731e-05  2.98521569e-04 -1.31900757e-04 ...  1.69235645e-04\n",
      "  -1.60686264e-04  1.00257632e-03]]\n",
      "\n",
      "\n",
      "[[ 2.08313755e-10  9.17723453e-10 -6.64150956e-11 ...  5.91565685e-12\n",
      "   6.71111389e-10 -4.57002214e-10]\n",
      " [ 9.17723453e-10  4.32427427e-11  8.18475066e-10 ... -3.52280427e-11\n",
      "   2.70840861e-09 -4.31361613e-11]\n",
      " [-6.64150956e-11  8.18475066e-10 -1.24047439e-10 ... -9.31588140e-12\n",
      "  -3.33121086e-10  1.30703448e-10]\n",
      " ...\n",
      " [ 5.91565685e-12 -3.52280427e-11 -9.31588140e-12 ...  8.77908857e-13\n",
      "   1.98279171e-11  2.46036524e-11]\n",
      " [ 6.71111389e-10  2.70840861e-09 -3.33121086e-10 ...  1.98279171e-11\n",
      "  -7.28427985e-10 -5.79587045e-10]\n",
      " [-4.57002214e-10 -4.31361613e-11  1.30703448e-10 ...  2.46036524e-11\n",
      "  -5.79587045e-10  1.29594113e-11]]\n",
      "\n",
      "\n",
      "[-5.01924676e-06 -2.07750343e-08 -1.48466555e-08 -9.14233360e-09\n",
      " -7.90844862e-09 -6.89784105e-09 -6.06818881e-09 -4.87714384e-09\n",
      " -3.55302524e-09 -3.24801617e-09 -2.73772882e-09 -2.53075920e-09\n",
      " -1.56232891e-09 -1.23411276e-09 -1.03748413e-09 -6.68766967e-10\n",
      " -4.03209251e-10 -2.31920574e-10 -1.61833673e-10 -1.38848784e-10\n",
      " -1.34730838e-10 -1.21008222e-10 -1.14800876e-10 -1.13346434e-10\n",
      " -1.00519351e-10 -9.10024424e-11 -8.41049656e-11 -8.05615067e-11\n",
      " -7.09235247e-11 -5.80802332e-11 -5.43489836e-11 -4.69975640e-11\n",
      " -4.08489884e-11 -3.34983353e-11 -2.66346791e-11 -2.56341417e-11\n",
      " -1.97768323e-11 -1.85865456e-11 -1.08922168e-11 -6.69280905e-12\n",
      " -3.53413303e-12 -2.82751070e-12 -9.02960428e-13  2.75633645e-13\n",
      "  5.50902719e-12  6.93430048e-12  7.77219039e-12  1.09851079e-11\n",
      "  1.90387017e-11  2.79158454e-11  3.32831451e-11  4.13512242e-11\n",
      "  4.16500033e-11  4.84735717e-11  5.40512163e-11  5.92919860e-11\n",
      "  6.96153716e-11  7.37609790e-11  8.73582075e-11  8.82598514e-11\n",
      "  9.78096757e-11  1.05541226e-10  1.12249690e-10  1.32213077e-10\n",
      "  1.36353850e-10  1.44437422e-10  1.60413108e-10  1.93101512e-10\n",
      "  2.12511739e-10  2.27896631e-10  2.61167871e-10  3.48237488e-10\n",
      "  4.01117690e-10  4.27104662e-10  4.79186820e-10  4.88904364e-10\n",
      "  6.39607476e-10  6.97753232e-10  8.24308175e-10  1.07462472e-09\n",
      "  1.28294899e-09  1.42153554e-09  1.59032594e-09  2.44719338e-09\n",
      "  2.74801784e-09  3.05106974e-09  3.36313875e-09  4.06236680e-09\n",
      "  4.52313805e-09  4.73368881e-09  5.88626951e-09  5.93342182e-09\n",
      "  6.33953596e-09  6.56176819e-09  7.35710996e-09  9.23562089e-09\n",
      "  1.05510335e-08  1.15123080e-08  1.67737317e-08  1.76298252e-08\n",
      "  1.82278474e-08  2.44558202e-08  2.45251934e-08  2.85602646e-08\n",
      "  3.74963974e-08  5.03511913e-08  5.37420541e-08  7.42782104e-08\n",
      "  8.93808481e-08  1.00929636e-07  1.05423934e-07  1.87821839e-07\n",
      "  1.99172188e-07  2.42674807e-07  2.49856943e-07  3.36259951e-07\n",
      "  3.97425347e-07  4.65015063e-07  6.22408590e-07  7.60347897e-07\n",
      "  9.54278696e-07  1.03680457e-06  1.27247562e-06  1.37230306e-06\n",
      "  1.68307325e-06  1.71571780e-06  2.02857202e-06  2.12683897e-06\n",
      "  2.81024104e-06  3.28037381e-06  3.87166308e-06  5.80795965e-06\n",
      "  7.03393841e-06  8.00970902e-06  8.45228374e-06  1.03225390e-05\n",
      "  1.05223261e-05  1.32262482e-05  1.51893771e-05  1.90450841e-05\n",
      "  2.21869664e-05  2.40028841e-05  2.84242901e-05  3.52738843e-05\n",
      "  3.91303699e-05  4.66502704e-05  5.79801853e-05  7.45264227e-05\n",
      "  7.98086234e-05  1.21192156e-04  1.38240146e-04  1.55398295e-04\n",
      "  1.72964613e-04  2.05987011e-04  2.08270586e-04  2.94694828e-04\n",
      "  3.43529331e-04  3.89586851e-04  4.19257682e-04  4.44975770e-04\n",
      "  4.65808898e-04  6.68083435e-04  6.84428746e-04  8.48120928e-04\n",
      "  9.36015085e-04  9.99582811e-04  1.17495527e-03  1.48188589e-03\n",
      "  1.77288223e-03  2.14990093e-03  2.69235079e-03  3.23651827e-03\n",
      "  3.40930031e-03  3.45415553e-03  4.20563637e-03  4.45152354e-03\n",
      "  5.80059971e-03  8.12183549e-03  1.04915680e-02  1.61092685e-02\n",
      "  2.44617488e-02]\n"
     ]
    }
   ],
   "source": [
    "\n",
    "epoch = 0\n",
    "\n",
    "print(np.squeeze(phi_rec[:,epoch,:]))\n",
    "\n",
    "print('\\n')\n",
    "\n",
    "print(np.squeeze(ttphi_rec[:,epoch,:]))\n",
    "\n",
    "print('\\n')\n",
    "\n",
    "print(np.squeeze(tPhi1_rec[:,epoch,:]))\n",
    "\n",
    "print('\\n')\n",
    "\n",
    "print(np.squeeze(tPhiL_rec[:,epoch,:]))\n",
    "\n",
    "print('\\n')\n",
    "\n",
    "print(np.squeeze(PHI1_rec[:,:,epoch,:]))\n",
    "\n",
    "print('\\n')\n",
    "\n",
    "print(np.squeeze(PHIL_rec[:,:,epoch,:]))\n",
    "\n",
    "print('\\n')\n",
    "\n",
    "print(np.squeeze(ttPHIL_cov[:,:,epoch,:]))\n",
    "\n",
    "print('\\n')\n",
    "\n",
    "print(np.squeeze(eigrec[:,epoch,:]))\n",
    "\n",
    "\n"
   ]
  },
  {
   "cell_type": "code",
   "execution_count": 19,
   "id": "18e518c0",
   "metadata": {},
   "outputs": [],
   "source": [
    "\n",
    "epoch = 0\n",
    "inet = 0\n",
    "\n",
    "dim_surrogate = 1\n",
    "\n",
    "dim_small = np.zeros((L+1,))\n",
    "dim_small[0] = dim[0]\n",
    "dim_small[L] = dim[L]\n",
    "for iL in np.arange(1,L):\n",
    "    dim_small[iL] = dim_surrogate\n",
    "dim_small = dim_small.astype(int)\n",
    "\n",
    "mat = sm.par2cov(L,dim_small,np.reshape(phi_rec[:,epoch,inet],(L-2,)),np.reshape(ttphi_rec[:,epoch,inet],(L-1,)),np.squeeze(tPhi1_rec[:,epoch,inet]),np.squeeze(tPhiL_rec[:,epoch,inet]),np.squeeze(PHI1_rec[:,:,epoch,inet]),np.squeeze(PHIL_rec[:,:,epoch,inet]),np.squeeze(ttPHIL_cov[:,:,epoch,inet]))\n"
   ]
  },
  {
   "cell_type": "code",
   "execution_count": 22,
   "id": "04f8c8c6",
   "metadata": {},
   "outputs": [
    {
     "data": {
      "image/png": "[encoded data removed]",
      "text/plain": [
       "<Figure size 432x288 with 2 Axes>"
      ]
     },
     "metadata": {
      "needs_background": "light"
     },
     "output_type": "display_data"
    }
   ],
   "source": [
    "\n",
    "plt.imshow(mat)\n",
    "plt.colorbar()\n",
    "plt.clim((-0.001,0.001))\n",
    "plt.show()\n",
    "\n",
    "#print(mat)\n",
    "\n",
    "#print(mat[0,:])\n"
   ]
  },
  {
   "cell_type": "code",
   "execution_count": 23,
   "id": "22da338b",
   "metadata": {},
   "outputs": [
    {
     "name": "stdout",
     "output_type": "stream",
     "text": [
      "181\n",
      "[  0 100 101 141 181]\n"
     ]
    }
   ],
   "source": [
    "\n",
    "npar_small = 0\n",
    "cpar_small = np.zeros((2*L+1,))\n",
    "for iL in np.arange(0,L):\n",
    "    npar_small = npar_small + dim_small[iL] * dim_small[iL+1]\n",
    "    cpar_small[2*iL+1] = npar_small\n",
    "    npar_small = npar_small + dim_small[iL+1]\n",
    "    cpar_small[2*iL+2] = npar_small\n",
    "\n",
    "npar_small = npar_small.astype(int)\n",
    "cpar_small = cpar_small.astype(int)\n",
    "\n",
    "print(npar_small)\n",
    "print(cpar_small)\n",
    "\n",
    "#evlinp, evc = np.linalg.eigh(mat[cpar_small[0]:cpar_small[1],cpar_small[0]:cpar_small[1]])\n",
    "evlinp, evc = np.linalg.eigh(mat[cpar_small[0]:cpar_small[2],cpar_small[0]:cpar_small[2]])\n",
    "\n",
    "#evlout, evc = np.linalg.eigh(mat[cpar_small[2*L-2]:cpar_small[2*L-1],cpar_small[2*L-2]:cpar_small[2*L-1]])\n",
    "evlout, evc = np.linalg.eigh(mat[cpar_small[2*L-3]:cpar_small[2*L-1],cpar_small[2*L-3]:cpar_small[2*L-1]])\n",
    "\n",
    "evl, evc = np.linalg.eigh(mat)\n"
   ]
  },
  {
   "cell_type": "code",
   "execution_count": 24,
   "id": "68ae2710",
   "metadata": {},
   "outputs": [
    {
     "data": {
      "image/png": "[encoded data removed]",
      "text/plain": [
       "<Figure size 432x288 with 1 Axes>"
      ]
     },
     "metadata": {
      "needs_background": "light"
     },
     "output_type": "display_data"
    },
    {
     "data": {
      "image/png": "[encoded data removed]",
      "text/plain": [
       "<Figure size 432x288 with 1 Axes>"
      ]
     },
     "metadata": {
      "needs_background": "light"
     },
     "output_type": "display_data"
    },
    {
     "data": {
      "image/png": "[encoded data removed]",
      "text/plain": [
       "<Figure size 432x288 with 1 Axes>"
      ]
     },
     "metadata": {
      "needs_background": "light"
     },
     "output_type": "display_data"
    },
    {
     "name": "stdout",
     "output_type": "stream",
     "text": [
      "[6.19352431e-05 3.59130965e-04 3.31745599e-04 2.30088408e-04\n",
      " 3.35192744e-04 1.56387468e-04 1.06923348e-04 9.63776038e-05\n",
      " 3.45675886e-04 3.46530083e-04 2.65727635e-04 1.93334854e-04\n",
      " 1.30405664e-04 3.18821549e-04 2.61023175e-04 7.26581377e-04\n",
      " 3.60580481e-04 7.92605570e-04 2.20272646e-04 2.39647314e-04\n",
      " 3.41858744e-04 8.53363134e-04 3.14459816e-04 2.94701342e-04\n",
      " 1.57527698e-04 1.02785685e-04 5.23741299e-04 1.74726854e-04\n",
      " 7.92897714e-04 2.57531909e-04 5.05008968e-04 5.18819608e-04\n",
      " 6.05048670e-04 2.80770095e-04 3.21582396e-04 2.49859091e-04\n",
      " 2.51738064e-04 2.50145997e-04 4.98990936e-04 5.07194549e-04\n",
      " 3.80480808e-04 2.55313382e-04 3.31854302e-04 8.96695361e-04\n",
      " 3.03835870e-04 2.20720423e-04 2.96180922e-04 1.84746561e-04\n",
      " 2.84169742e-04 3.75796837e-04 2.57185282e-04 6.43256004e-04\n",
      " 8.94247089e-04 3.09147610e-04 2.17538924e-04 2.86610739e-04\n",
      " 5.55646431e-04 2.69972254e-04 4.84861899e-04 4.96410765e-04\n",
      " 1.99744405e-04 4.32586326e-04 4.13161411e-04 1.36165705e-04\n",
      " 1.75435023e-04 2.45066563e-04 4.69341932e-04 1.47163519e-04\n",
      " 3.50656977e-04 6.23199216e-04 8.37219879e-04 4.08240187e-04\n",
      " 6.15888159e-04 6.10004994e-04 6.93729788e-04 3.71767441e-04\n",
      " 2.93384073e-04 3.58617515e-04 7.59036804e-04 4.50724852e-04\n",
      " 4.92705673e-04 1.69757768e-04 7.82004907e-04 2.85397778e-04\n",
      " 4.95278684e-04 4.63622477e-04 6.79290853e-04 1.48890467e-04\n",
      " 2.33594066e-04 5.81413624e-04 1.87724669e-04 5.44306182e-04\n",
      " 2.85580754e-04 4.48392559e-04 5.31984901e-04 6.60496415e-04\n",
      " 4.85624972e-04 3.98910430e-04 2.59052205e-04 3.41043167e-04]\n",
      "[0.02032175]\n",
      "[0.02032175]\n",
      "[0.00111745 0.00079461 0.00106078 0.00035407 0.00081521 0.00080492\n",
      " 0.00022257 0.00048529 0.00068656 0.00123121 0.00068485 0.00114567\n",
      " 0.00027477 0.00046498 0.0008813  0.00125019 0.00138845 0.00071023\n",
      " 0.00051465 0.0037678  0.00025907 0.00078632 0.00116668 0.00091588\n",
      " 0.00026475 0.00164248 0.00096395 0.00419122 0.00063574 0.00154339\n",
      " 0.00101985 0.00036427 0.00079529 0.00149935 0.00207164 0.00045836\n",
      " 0.00174916 0.00057557 0.00146162 0.00100258]\n"
     ]
    }
   ],
   "source": [
    "\n",
    "plt.plot(np.abs(evlinp))\n",
    "plt.yscale('log')\n",
    "plt.show()\n",
    "\n",
    "plt.plot(np.abs(evlout))\n",
    "plt.yscale('log')\n",
    "plt.show()\n",
    "\n",
    "plt.plot(np.abs(evl))\n",
    "plt.yscale('log')\n",
    "plt.show()\n",
    "\n",
    "print(np.diag(mat[cpar_small[0]:cpar_small[1],cpar_small[0]:cpar_small[1]]))\n",
    "print(np.diag(mat[cpar_small[1]:cpar_small[2],cpar_small[1]:cpar_small[2]]))\n",
    "print(np.diag(mat[cpar_small[2*L-3]:cpar_small[2*L-2],cpar_small[2*L-3]:cpar_small[2*L-2]]))\n",
    "print(np.diag(mat[cpar_small[2*L-2]:cpar_small[2*L-1],cpar_small[2*L-2]:cpar_small[2*L-1]]))\n"
   ]
  },
  {
   "cell_type": "code",
   "execution_count": 25,
   "id": "e78f1890",
   "metadata": {},
   "outputs": [
    {
     "data": {
      "image/png": "[encoded data removed]",
      "text/plain": [
       "<Figure size 432x288 with 1 Axes>"
      ]
     },
     "metadata": {
      "needs_background": "light"
     },
     "output_type": "display_data"
    },
    {
     "data": {
      "image/png": "[encoded data removed]",
      "text/plain": [
       "<Figure size 432x288 with 2 Axes>"
      ]
     },
     "metadata": {
      "needs_background": "light"
     },
     "output_type": "display_data"
    },
    {
     "data": {
      "image/png": "[encoded data removed]",
      "text/plain": [
       "<Figure size 432x288 with 2 Axes>"
      ]
     },
     "metadata": {
      "needs_background": "light"
     },
     "output_type": "display_data"
    }
   ],
   "source": [
    "\n",
    "epoch = 0\n",
    "inet = 0\n",
    "\n",
    "plt.plot(grad_rec[:,epoch,inet])\n",
    "plt.show()\n",
    "\n",
    "for iL in range(L):\n",
    "    plt.imshow(np.reshape(grad_rec[cpar[iL]:cpar[iL+1],epoch,inet],(dim[iL+1],dim[iL]+1),order='F'))\n",
    "    #plt.clim((-1000,1000))\n",
    "    plt.colorbar()\n",
    "    plt.show()\n"
   ]
  },
  {
   "cell_type": "code",
   "execution_count": null,
   "id": "5c305012",
   "metadata": {},
   "outputs": [],
   "source": [
    "# compare two models\n",
    "\n",
    "iepoch = 0\n",
    "\n",
    "for iL in range(L):\n",
    "    plt.scatter(np.abs(wdcov[:,iL,iepoch,0]),np.abs(wdcov[:,iL,iepoch,1]))\n",
    "\n",
    "for iL in range(L-1):\n",
    "    plt.scatter(np.abs(wtcov[:,iL,iepoch,0]),np.abs(wtcov[:,iL,iepoch,1]))\n",
    "\n",
    "iwo = 0\n",
    "for iL in np.arange(0,L-2):\n",
    "    for jL in np.arange(0,iL+1):\n",
    "        plt.scatter(np.abs(wocov[iwo,iepoch,0]),np.abs(wocov[iwo,iepoch,1]))\n",
    "        iwo = iwo + 1\n",
    "\n",
    "plt.plot([10**(-4), 10**7],[10**(-4), 10**7])\n",
    "plt.xscale('log')\n",
    "plt.yscale('log')\n",
    "plt.show()\n"
   ]
  },
  {
   "cell_type": "code",
   "execution_count": null,
   "id": "260db923",
   "metadata": {},
   "outputs": [],
   "source": [
    "\n",
    "epsinp = 0.00001\n",
    "epsout = 0.00001\n",
    "\n",
    "ddamp = np.zeros((npar_small,))\n",
    "ddamp[cpar_small[0]:cpar_small[2]] = epsinp\n",
    "#ddamp[cpar_small[2*L-3]:cpar_small[2*L-1]] = epsout\n",
    "ddamp[cpar_small[2*L-3]:cpar_small[2*L]] = epsout\n",
    "\n",
    "evldamp, evc = np.linalg.eigh(mat+np.diag(ddamp))\n",
    "\n",
    "imat = (evc * 1/evldamp) @ evc.T\n",
    "\n",
    "smat = (evc * np.sqrt(evldamp)) @ evc.T\n",
    "\n",
    "ismat = (evc * 1/np.sqrt(evldamp)) @ evc.T\n",
    "\n",
    "\n",
    "plt.imshow(imat)\n",
    "plt.colorbar()\n",
    "plt.show()\n",
    "\n",
    "plt.imshow(smat)\n",
    "plt.colorbar()\n",
    "plt.show()\n",
    "\n",
    "plt.imshow(ismat)\n",
    "plt.colorbar()\n",
    "plt.show()\n",
    "\n"
   ]
  },
  {
   "cell_type": "code",
   "execution_count": null,
   "id": "214418bc",
   "metadata": {},
   "outputs": [],
   "source": [
    "\n",
    "print(evldamp)\n"
   ]
  },
  {
   "cell_type": "code",
   "execution_count": null,
   "id": "d96bd31a",
   "metadata": {},
   "outputs": [],
   "source": []
  },
  {
   "cell_type": "markdown",
   "id": "b6f9a71c",
   "metadata": {},
   "source": [
    "### Learning rate"
   ]
  },
  {
   "cell_type": "code",
   "execution_count": null,
   "id": "4244982c",
   "metadata": {},
   "outputs": [],
   "source": [
    "\n",
    "lr = 0.00075\n",
    "nepochs = 50\n",
    "\n",
    "eps = 0.001\n",
    "\n",
    "beta = 0.\n"
   ]
  },
  {
   "cell_type": "markdown",
   "id": "aea82706",
   "metadata": {},
   "source": [
    "### Reset"
   ]
  },
  {
   "cell_type": "code",
   "execution_count": null,
   "id": "4ec553a7",
   "metadata": {},
   "outputs": [],
   "source": [
    "\n",
    "for inet in range(num_models):\n",
    "    nets[inet].load_state_dict(nets0[inet].state_dict())\n",
    "    "
   ]
  },
  {
   "cell_type": "markdown",
   "id": "c30a6168",
   "metadata": {},
   "source": [
    "### Training, ensemble cov"
   ]
  },
  {
   "cell_type": "code",
   "execution_count": null,
   "id": "172509c5",
   "metadata": {},
   "outputs": [],
   "source": [
    "\n",
    "rec_time = 1\n",
    "nitera = int(nepochs/rec_time)\n",
    "\n",
    "running_trainloss = torch.zeros( (nitera,num_models) )\n",
    "running_testloss = torch.zeros( (nitera,num_models) )\n",
    "\n",
    "wmrec = np.zeros((L,nepochs,num_models))\n",
    "\n",
    "wdrec = np.zeros((4,L,nepochs,num_models))\n",
    "wtrec = np.zeros((2,L-1,nepochs,num_models))\n",
    "worec = np.zeros(((L-2)*(L-1)//2,nepochs,num_models))\n",
    "\n",
    "wdcov = np.copy(wdrec)\n",
    "wtcov = np.copy(wtrec)\n",
    "wocov = np.copy(worec)\n",
    "\n",
    "#itera = 0    \n",
    "\n",
    "for epoch in range(nepochs):  # loop over the dataset multiple times\n",
    "\n",
    "    for inet in range(num_models):\n",
    "        \n",
    "        # print statistics\n",
    "        #if epoch % rec_time == rec_time-1:    # print every 'rec_time' mini-batches\n",
    "\n",
    "        \n",
    "        with torch.no_grad():\n",
    "\n",
    "            outputs_train = nets[inet](inputs_train)\n",
    "            running_trainloss[epoch,inet] = torch.norm(outputs_train-labels_train)**2 / num_train_data / 2\n",
    "\n",
    "            outputs_test = nets[inet](inputs_test)\n",
    "            running_testloss[epoch,inet] = torch.norm(outputs_test-labels_test)**2 / num_test_data / 2\n",
    "\n",
    "        print(epoch + 1)\n",
    "        #itera += 1\n",
    "\n",
    "        # Compute the loss\n",
    "        outputs_train = nets[inet](inputs_train)\n",
    "        loss = torch.norm(outputs_train-labels_train)**2 / num_train_data / 2\n",
    "\n",
    "        # Compute first-order gradients\n",
    "        grads = torch.autograd.grad(loss, nets[inet].parameters(), create_graph=False)\n",
    "\n",
    "        grad_vec_F = torch.cat([g.T.reshape(-1,1) for g in grads])\n",
    "        grad_vec_C = torch.cat([g.view(-1) for g in grads])\n",
    "        \n",
    "        grad_np = grad_vec_F.numpy()\n",
    "        \n",
    "        wmrec[:,epoch,inet], wdrec[:,:,epoch,inet], wtrec[:,:,epoch,inet], worec[:,epoch,inet] = sm.grad2par_fast(L,dim,grad_np)\n",
    "\n",
    "        wdcov[:,:,epoch,inet]=wdrec[:,:,epoch,inet]\n",
    "        wtcov[:,:,epoch,inet]=wtrec[:,:,epoch,inet]\n",
    "        wocov[:,epoch,inet]=worec[:,epoch,inet]\n",
    "        \n",
    "        for iL in range(L):\n",
    "            wdcov[3,iL,:,:] = wdrec[3,iL,:,:] - wmrec[iL,:,:]**2*dim[iL]*dim[iL+1]\n",
    "\n",
    "        for iL in range(L-1):\n",
    "            wtcov[1,iL,:,:] = wtrec[1,iL,:,:] - wmrec[iL,:,:]*wmrec[iL+1,:,:]*dim[iL+1]*np.sqrt(dim[iL]*dim[iL+2])\n",
    "\n",
    "        iwo = 0\n",
    "        for iL in np.arange(0,L-2):\n",
    "            for jL in np.arange(0,iL+1):\n",
    "                wocov[iwo,:,:] = worec[iwo,:,:] - wmrec[iL+2,:,:]*wmrec[jL,:,:]*np.sqrt(dim[iL+2]*dim[iL+3])*np.sqrt(dim[jL]*dim[jL+1])\n",
    "                iwo = iwo + 1\n",
    "        \n",
    "        wd = np.reshape(wdcov[:,:,epoch,inet],(4,L))\n",
    "        wt = np.reshape(wtcov[:,:,epoch,inet],(2,L-1))\n",
    "        wo = np.squeeze(wocov[:,epoch,inet])\n",
    "        wdreg = np.copy(wd)\n",
    "        \n",
    "        evl = sm.eig_unique(L,wd,wt,wo)\n",
    "        #if np.min(evl)<0:\n",
    "        #    eps = -2*np.min(evl)\n",
    "        #else:\n",
    "        #    eps = 0 \n",
    "        \n",
    "        wdreg[0,:] = wdreg[0,:] + eps\n",
    "        wd, wt, wo = sm.squareroot(L,wdreg,wt,wo)\n",
    "        wd, wt, wo = sm.inverse(L,wd,wt,wo)\n",
    "        \n",
    "        #print(wd)\n",
    "        #print(wt)\n",
    "        #print(wo)\n",
    "        #print(evl)\n",
    "        \n",
    "        grad_np = grad_np.reshape((num_parameters,))\n",
    "        update_F = sm.matvec_fast(L,dim,wd,wt,wo,grad_np)\n",
    "        update_C = np.copy(update_F)\n",
    "        \n",
    "        update_F = (1-beta)*update_F + beta*sm.par2mean(L,dim,np.squeeze(wmrec[:,epoch,inet]))\n",
    "        \n",
    "        for iL in range(L):\n",
    "            upd = update_F[cpar[iL]:cpar[iL+1]].reshape((dim[iL+1],dim[iL]),order='F')\n",
    "            update_C[cpar[iL]:cpar[iL+1]]=np.reshape(upd,(dim[iL+1]*dim[iL],),order='C')\n",
    "\n",
    "        param_vec = torch.nn.utils.parameters_to_vector(nets[inet].parameters())\n",
    "        torch.nn.utils.vector_to_parameters( param_vec - lr * torch.tensor(update_C).float() , nets[inet].parameters())    \n",
    "\n",
    "\n",
    "print('Finished Training')"
   ]
  },
  {
   "cell_type": "code",
   "execution_count": null,
   "id": "cb6a2504",
   "metadata": {},
   "outputs": [],
   "source": [
    "\n",
    "plt.plot(np.arange(1,nepochs+1),running_trainloss)\n",
    "plt.plot(np.arange(1,nepochs+1),running_testloss)\n",
    "\n",
    "plt.plot(np.arange(1,nepochs+1),running_trainloss_gd,linestyle='dashed')\n",
    "plt.plot(np.arange(1,nepochs+1),running_testloss_gd,linestyle='dashed')\n",
    "\n",
    "#plt.xscale('log')\n",
    "#plt.yscale('log')\n",
    "\n",
    "#plt.ylim(10**(-5),10**(1))\n",
    "plt.xlim(0,50)\n",
    "\n",
    "plt.show()\n"
   ]
  },
  {
   "cell_type": "code",
   "execution_count": null,
   "id": "c25ec73c",
   "metadata": {},
   "outputs": [],
   "source": [
    "\n",
    "with torch.no_grad():\n",
    "    outputs_train = net(inputs_train)\n",
    "\n",
    "\n",
    "plt.scatter(inputs_train[:,0],outputs_train[:,0])\n",
    "#plt.scatter(inputs_train[:,0],labels_train[:,0])\n",
    "plt.show()\n"
   ]
  },
  {
   "cell_type": "code",
   "execution_count": null,
   "id": "27f41ed1",
   "metadata": {},
   "outputs": [],
   "source": []
  },
  {
   "cell_type": "markdown",
   "id": "85aeff76",
   "metadata": {},
   "source": [
    "### Save experiment"
   ]
  },
  {
   "cell_type": "code",
   "execution_count": null,
   "id": "c9443151",
   "metadata": {},
   "outputs": [],
   "source": [
    "\n",
    "#PATH = './mlp_iGD.pt'\n",
    "#torch.save({'do':d0, 'd1':d1, 'd':d, 'L':L, 'num_train_data':num_train_data, 'num_test_data':num_test_data, 'noise':noise, 'lr':lr, 'nepochs':nepochs, 'rec_time':rec_time, 'running_trainloss':running_trainloss, 'running_testloss':running_testloss, 'tol':tol}, PATH)\n",
    "\n",
    "#PATH = './mlp_up_iGD.pt'\n",
    "#torch.save({'do':d0, 'd1':d1, 'd':d, 'L':L, 'num_train_data':num_train_data, 'num_test_data':num_test_data, 'noise':noise, 'lr':lr, 'nepochs':nepochs, 'rec_time':rec_time, 'running_trainloss':running_trainloss, 'running_testloss':running_testloss, 'tol':tol}, PATH)\n",
    "\n"
   ]
  },
  {
   "cell_type": "code",
   "execution_count": null,
   "id": "8ca56d36",
   "metadata": {},
   "outputs": [],
   "source": []
  }
 ],
 "metadata": {
  "kernelspec": {
   "display_name": "my-torch",
   "language": "python",
   "name": "my-torch"
  },
  "language_info": {
   "codemirror_mode": {
    "name": "ipython",
    "version": 3
   },
   "file_extension": ".py",
   "mimetype": "text/x-python",
   "name": "python",
   "nbconvert_exporter": "python",
   "pygments_lexer": "ipython3",
   "version": "3.6.13"
  }
 },
 "nbformat": 4,
 "nbformat_minor": 5
}
