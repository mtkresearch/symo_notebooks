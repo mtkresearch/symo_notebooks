{
 "cells": [
  {
   "cell_type": "code",
   "execution_count": 1,
   "id": "534715f8",
   "metadata": {},
   "outputs": [],
   "source": [
    "import numpy as np\n",
    "import matplotlib.pyplot as plt\n",
    "\n",
    "import symmetric_methods as sm\n"
   ]
  },
  {
   "cell_type": "code",
   "execution_count": 2,
   "id": "b90e831c",
   "metadata": {},
   "outputs": [],
   "source": [
    "# MLP structure\n",
    "\n",
    "L = 2\n",
    "\n",
    "dim = np.zeros((L+1,))\n",
    "\n",
    "dim[0] = 10\n",
    "dim[1] = 7\n",
    "dim[2] = 4\n",
    "#dim[3] = 4\n",
    "#dim[4] = 5\n",
    "#dim[5] = 8\n",
    "#dim[6] = 9\n",
    "#dim[7] = 10\n",
    "#dim[8] = 11\n",
    "#dim[9] = 12\n",
    "\n",
    "dim= dim.astype(int)\n"
   ]
  },
  {
   "cell_type": "code",
   "execution_count": 3,
   "id": "e44be257",
   "metadata": {},
   "outputs": [],
   "source": [
    "# draw random parameters, generate matrix and make it positive definite \n",
    "\n",
    "phi = np.random.normal(0,1,(L-2,))\n",
    "ttphi = np.random.normal(0,1,(L-1,))\n",
    "tPhi1 = np.random.normal(0,1,(dim[0],1))\n",
    "tPhiL = np.random.normal(0,1,(dim[L],1))\n",
    "PHI1 = np.random.normal(0,1,(dim[0],dim[0]))\n",
    "PHI1 = PHI1 + PHI1.T\n",
    "PHIL = np.random.normal(0,1,(dim[L],dim[L]))\n",
    "PHIL = PHIL + PHIL.T\n",
    "ttPHIL = np.random.normal(0,1,(dim[L],dim[L]))\n",
    "ttPHIL = ttPHIL + ttPHIL.T\n",
    "PSI1 = []\n",
    "if L==2:\n",
    "    PSI1 = np.random.normal(0,1,(dim[0],dim[2]))\n",
    "    \n",
    "\n",
    "mat = sm.par2cov(L,dim,phi,ttphi,tPhi1,tPhiL,PHI1,PSI1,PHIL,ttPHIL)\n",
    "evl, evc = np.linalg.eigh(mat)\n",
    "\n",
    "evl_small = sm.eig_unique(L,dim,phi,ttphi,tPhi1,tPhiL,PHI1,PSI1,PHIL,ttPHIL)\n",
    "\n",
    "\n"
   ]
  },
  {
   "cell_type": "code",
   "execution_count": 4,
   "id": "d4457ef4",
   "metadata": {},
   "outputs": [
    {
     "name": "stdout",
     "output_type": "stream",
     "text": [
      "[-9.74974582 -9.74974582 -9.74974582 -9.74974582 -9.74974582 -9.74974582\n",
      " -9.74974582 -8.73007043 -8.73007043 -8.73007043 -8.73007043 -8.73007043\n",
      " -8.73007043 -8.73007043 -7.09340489 -7.09340489 -7.09340489 -7.09340489\n",
      " -7.09340489 -7.09340489 -7.09340489 -6.19965967 -6.19965967 -6.19965967\n",
      " -6.19965967 -6.19965967 -6.19965967 -6.19965967 -4.76898074 -4.55368257\n",
      " -4.55368257 -4.55368257 -4.55368257 -4.55368257 -4.55368257 -4.55368257\n",
      " -2.42342921 -2.42342921 -2.42342921 -2.42342921 -2.42342921 -2.42342921\n",
      " -2.42342921 -2.14480518 -1.63583875 -1.63583875 -1.63583875 -1.63583875\n",
      " -1.63583875 -1.63583875 -1.63583875 -0.29481885 -0.2930918  -0.2930918\n",
      " -0.2930918  -0.2930918  -0.2930918  -0.2930918  -0.2930918   0.23288827\n",
      "  0.23288827  0.23288827  0.23288827  0.23288827  0.23288827  0.23288827\n",
      "  1.13278708  1.13278708  1.13278708  1.13278708  1.13278708  1.13278708\n",
      "  1.13278708  1.64437042  2.30773423  2.30773423  2.30773423  2.30773423\n",
      "  2.30773423  2.30773423  2.30773423  3.48093496  3.48093496  3.48093496\n",
      "  3.48093496  3.48093496  3.48093496  3.48093496  4.31977902  4.31977902\n",
      "  4.31977902  4.31977902  4.31977902  4.31977902  4.31977902  6.89034995\n",
      "  6.89034995  6.89034995  6.89034995  6.89034995  6.89034995  6.89034995\n",
      "  8.30971826  8.30971826  8.30971826  8.30971826  8.30971826  8.30971826\n",
      "  8.30971826]\n",
      "\n",
      "\n",
      "[-9.74974582 -8.73007043 -7.09340489 -6.19965967 -4.76898074 -4.55368257\n",
      " -2.42342921 -2.14480518 -1.63583875 -0.29481885 -0.2930918   0.23288827\n",
      "  1.13278708  1.64437042  2.30773423  3.48093496  4.31977902  6.89034995\n",
      "  8.30971826]\n"
     ]
    }
   ],
   "source": [
    "\n",
    "print(evl)\n",
    "print('\\n')\n",
    "print(evl_small)\n"
   ]
  },
  {
   "cell_type": "code",
   "execution_count": null,
   "id": "d270633d",
   "metadata": {},
   "outputs": [],
   "source": []
  }
 ],
 "metadata": {
  "kernelspec": {
   "display_name": "Python 3 (ipykernel)",
   "language": "python",
   "name": "python3"
  },
  "language_info": {
   "codemirror_mode": {
    "name": "ipython",
    "version": 3
   },
   "file_extension": ".py",
   "mimetype": "text/x-python",
   "name": "python",
   "nbconvert_exporter": "python",
   "pygments_lexer": "ipython3",
   "version": "3.9.13"
  }
 },
 "nbformat": 4,
 "nbformat_minor": 5
}
