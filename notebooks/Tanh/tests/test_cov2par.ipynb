{
 "cells": [
  {
   "cell_type": "code",
   "execution_count": 1,
   "id": "534715f8",
   "metadata": {},
   "outputs": [],
   "source": [
    "import numpy as np\n",
    "import matplotlib.pyplot as plt\n",
    "\n",
    "import symmetric_methods as sm\n"
   ]
  },
  {
   "cell_type": "code",
   "execution_count": 2,
   "id": "b90e831c",
   "metadata": {},
   "outputs": [],
   "source": [
    "# MLP structure\n",
    "\n",
    "L = 3\n",
    "\n",
    "dim = np.zeros((L+1,))\n",
    "\n",
    "dim[0] = 5\n",
    "dim[1] = 5\n",
    "dim[2] = 5\n",
    "dim[3] = 5\n",
    "#dim[4] = 7\n",
    "#dim[5] = 8\n",
    "#dim[6] = 9\n",
    "#dim[7] = 10\n",
    "#dim[8] = 11\n",
    "#dim[9] = 12\n",
    "\n",
    "dim= dim.astype(int)\n"
   ]
  },
  {
   "cell_type": "code",
   "execution_count": 3,
   "id": "08117859",
   "metadata": {},
   "outputs": [],
   "source": [
    "# draw random parameters, test generating the matrix and reverting back to parameters \n",
    "\n",
    "\n",
    "tZL = np.random.normal(0,1,(dim[L],))\n",
    "phi = np.random.normal(0,1,(L-2,))\n",
    "ttphi = np.random.normal(0,1,(L-1,))\n",
    "tPhi1 = np.random.normal(0,1,(dim[0],1))\n",
    "tPhiL = np.random.normal(0,1,(dim[L],1))\n",
    "PHI1 = np.random.normal(0,1,(dim[0],dim[0]))\n",
    "PHI1 = PHI1 + PHI1.T\n",
    "PHIL = np.random.normal(0,1,(dim[L],dim[L]))\n",
    "PHIL = PHIL + PHIL.T\n",
    "ttPHIL = np.random.normal(0,1,(dim[L],dim[L]))\n",
    "ttPHIL = ttPHIL + ttPHIL.T\n",
    "PSI1 = []\n",
    "if L==2:\n",
    "    PSI1 = np.random.normal(0,1,(dim[0],dim[2]))\n",
    "    \n",
    "\n",
    "\n",
    "meang = sm.par2mean(L,dim,tZL)\n",
    "covg = sm.par2cov(L,dim,phi,ttphi,tPhi1,tPhiL,PHI1,PSI1,PHIL,ttPHIL)\n",
    "\n",
    "\n",
    "tZLest = sm.mean2par(L,dim,meang)\n",
    "phiest,ttphiest,tPhi1est,tPhiLest,PHI1est,PSI1est,PHILest,ttPHILest = sm.cov2par(L,dim,covg)\n",
    "\n",
    "evl, evc = np.linalg.eigh(covg)\n",
    "covg = (evc * np.abs(evl)) @ evc.T\n"
   ]
  },
  {
   "cell_type": "code",
   "execution_count": null,
   "id": "075f3a5c",
   "metadata": {},
   "outputs": [],
   "source": [
    "\n",
    "plt.plot(meang)\n",
    "plt.xlabel('parameter index')\n",
    "plt.xlabel('mean gradient')\n",
    "plt.show()\n",
    "\n",
    "plt.imshow(covg)\n",
    "#plt.clim((-10,10))\n",
    "plt.clim((-1.5,1.5))\n",
    "cb=plt.colorbar(format='%1.0e')\n",
    "cb.ax.tick_params(labelsize=20)\n",
    "\n",
    "#plt.xticks(ticks=[-0.5, 24.5, 29.5, 54.5, 59.5],labels=None)\n",
    "#plt.yticks(ticks=[-0.5, 24.5, 29.5, 54.5, 59.5],labels=None)\n",
    "#plt.tick_params(axis='both',direction='out',length=50,width=2,labelcolor='w')\n",
    "\n",
    "#plt.xticks(ticks=[-0.5, 24.5, 29.5, 54.5, 59.5, 84.5, 89.5],labels=None)\n",
    "#plt.yticks(ticks=[-0.5, 24.5, 29.5, 54.5, 59.5, 84.5, 89.5],labels=None)\n",
    "#plt.tick_params(axis='both',direction='out',length=30,width=2,labelcolor='w')\n",
    "\n",
    "fig = plt.gcf()\n",
    "fig.set_size_inches(15, 15)\n",
    "#plt.savefig('cov_Tanh_5555_theory.pdf')\n",
    "#plt.savefig('cov_Tanh_555_theory.pdf')\n",
    "plt.show()\n",
    "\n",
    "\n",
    "\n",
    "\n",
    "#plt.plot(meang,meangest,linestyle='none',marker='.')\n",
    "#plt.plot([np.min(meang), np.max(meang)],[np.min(meang), np.max(meang)])\n",
    "#plt.show()\n",
    "\n",
    "#plt.plot(covg,covgest,linestyle='none',marker='.')\n",
    "#plt.plot([np.min(covg), np.max(covg)],[np.min(covg), np.max(covg)])\n",
    "#plt.show()\n",
    "\n",
    "\n",
    "\n",
    "print(tZL)\n",
    "print('\\n')\n",
    "print(tZLest)\n",
    "print('\\n')\n",
    "print(phi)\n",
    "print('\\n')\n",
    "print(phiest)\n",
    "print('\\n')\n",
    "print(ttphi)\n",
    "print('\\n')\n",
    "print(ttphiest)\n",
    "print('\\n')\n",
    "print(tPhi1)\n",
    "print('\\n')\n",
    "print(tPhi1est)\n",
    "print('\\n')\n",
    "print(tPhiL)\n",
    "print('\\n')\n",
    "print(tPhiLest)\n",
    "print('\\n')\n",
    "print(PHI1)\n",
    "print('\\n')\n",
    "print(PHI1est)\n",
    "print('\\n')\n",
    "print(PSI1)\n",
    "print('\\n')\n",
    "print(PSI1est)\n",
    "print('\\n')\n",
    "print(PHIL)\n",
    "print('\\n')\n",
    "print(PHILest)\n",
    "print('\\n')\n",
    "print(ttPHIL)\n",
    "print('\\n')\n",
    "print(ttPHILest)\n",
    "\n"
   ]
  },
  {
   "cell_type": "code",
   "execution_count": null,
   "id": "b026614f",
   "metadata": {},
   "outputs": [],
   "source": [
    "# eigenvalues and eigenvectors of the generated matrix\n",
    "\n",
    "evl, evc = np.linalg.eigh(covg)\n",
    "\n",
    "plt.plot(evl,marker='.')\n",
    "plt.xlabel('index')\n",
    "plt.ylabel('eigenvalues')\n",
    "plt.show()\n",
    "\n",
    "plt.imshow(evc)\n",
    "plt.colorbar()\n",
    "plt.show()\n"
   ]
  },
  {
   "cell_type": "code",
   "execution_count": null,
   "id": "a3cbe616",
   "metadata": {},
   "outputs": [],
   "source": [
    "\n",
    "# fit a random matrix\n",
    "\n",
    "npar = 0\n",
    "for iL in np.arange(0,L):\n",
    "    npar = npar + (dim[iL]+1) * dim[iL+1]\n",
    "npar = npar.astype(int)\n",
    "\n",
    "covgrand = np.random.normal(0,1,(npar,npar))\n",
    "\n",
    "phi,ttphi,tPhi1,tPhiL,PHI1,PSI1,PHIL,ttPHIL = sm.cov2par(L,dim,covgrand)\n",
    "\n",
    "covg = sm.par2cov(L,dim,phi,ttphi,tPhi1,tPhiL,PHI1,PSI1,PHIL,ttPHIL)\n",
    "\n",
    "\n",
    "\n",
    "\n"
   ]
  },
  {
   "cell_type": "code",
   "execution_count": null,
   "id": "88802610",
   "metadata": {},
   "outputs": [],
   "source": [
    "\n",
    "plt.imshow(covg)\n",
    "#plt.clim((-0.15,0.15))\n",
    "fig = plt.gcf()\n",
    "fig.set_size_inches(10, 10)\n",
    "plt.colorbar()\n",
    "plt.show()\n"
   ]
  },
  {
   "cell_type": "code",
   "execution_count": null,
   "id": "4eb4a146",
   "metadata": {},
   "outputs": [],
   "source": [
    "# eigenvalues and eigenvectors of the generated matrix\n",
    "\n",
    "evl, evc = np.linalg.eigh(covg)\n",
    "\n",
    "plt.plot(evl,marker='.')\n",
    "plt.xlabel('index')\n",
    "plt.ylabel('eigenvalues')\n",
    "plt.show()\n",
    "\n",
    "plt.imshow(evc)\n",
    "plt.colorbar()\n",
    "plt.show()"
   ]
  },
  {
   "cell_type": "code",
   "execution_count": null,
   "id": "bf392a1b",
   "metadata": {},
   "outputs": [],
   "source": [
    "\n",
    "print(evl)\n"
   ]
  },
  {
   "cell_type": "markdown",
   "id": "592db530",
   "metadata": {},
   "source": [
    "### Surrogate"
   ]
  },
  {
   "cell_type": "code",
   "execution_count": 4,
   "id": "b6e41201",
   "metadata": {},
   "outputs": [],
   "source": [
    "\n",
    "dim0 = np.copy(dim)\n",
    "for iL in np.arange(1,L):\n",
    "    dim0[iL] = 1\n",
    "\n",
    "covg_big = sm.par2cov(L,dim,phi,ttphi,tPhi1,tPhiL,PHI1,PSI1,PHIL,ttPHIL)\n",
    "evl_big, evc_big = np.linalg.eigh(covg_big)\n",
    "covg_big = (evc_big * np.abs(evl_big)) @ evc_big.T\n",
    "\n",
    "covg_small = sm.par2cov(L,dim0,phi,ttphi,tPhi1,tPhiL,PHI1,PSI1,PHIL,ttPHIL)\n",
    "evl_small, evc_small = np.linalg.eigh(covg_small)\n",
    "covg_small = (evc_small * np.abs(evl_small)) @ evc_small.T\n"
   ]
  },
  {
   "cell_type": "code",
   "execution_count": 9,
   "id": "6e3bed17",
   "metadata": {
    "scrolled": true
   },
   "outputs": [
    {
     "data": {
      "image/png": "[encoded data removed]",
      "text/plain": [
       "<Figure size 640x480 with 2 Axes>"
      ]
     },
     "metadata": {},
     "output_type": "display_data"
    },
    {
     "data": {
      "image/png": "[encoded data removed]",
      "text/plain": [
       "<Figure size 640x480 with 2 Axes>"
      ]
     },
     "metadata": {},
     "output_type": "display_data"
    }
   ],
   "source": [
    "\n",
    "plt.imshow(covg_big)\n",
    "plt.clim((-2.,2.))\n",
    "plt.colorbar()\n",
    "\n",
    "#plt.xticks(ticks=[-0.5, 24.5, 29.5, 54.5, 59.5],labels=None)\n",
    "#plt.yticks(ticks=[-0.5, 24.5, 29.5, 54.5, 59.5],labels=None)\n",
    "#plt.tick_params(axis='both',direction='out',length=15,width=1,labelcolor='w')\n",
    "#plt.savefig('matrix_big_Tanh_555.pdf')\n",
    "\n",
    "plt.xticks(ticks=[-0.5, 24.5, 29.5, 54.5, 59.5, 84.5, 89.5],labels=None)\n",
    "plt.yticks(ticks=[-0.5, 24.5, 29.5, 54.5, 59.5, 84.5, 89.5],labels=None)\n",
    "plt.tick_params(axis='both',direction='out',length=15,width=1,labelcolor='w')\n",
    "#plt.savefig('matrix_big_Tanh_5555.pdf')\n",
    "\n",
    "plt.show()\n",
    "\n",
    "plt.imshow(covg_small)\n",
    "plt.clim((-2.,2.))\n",
    "plt.colorbar()\n",
    "\n",
    "#plt.xticks(ticks=[-0.5, 4.5, 5.5, 10.5, 15.5],labels=None)\n",
    "#plt.yticks(ticks=[-0.5, 4.5, 5.5, 10.5, 15.5],labels=None)\n",
    "#plt.tick_params(axis='both',direction='out',length=15,width=1,labelcolor='w')\n",
    "#plt.savefig('matrix_small_Tanh_555.pdf')\n",
    "\n",
    "plt.xticks(ticks=[-0.5, 4.5, 5.5, 6.5, 7.5, 12.5, 17.5],labels=None)\n",
    "plt.yticks(ticks=[-0.5, 4.5, 5.5, 6.5, 7.5, 12.5, 17.5],labels=None)\n",
    "plt.tick_params(axis='both',direction='out',length=15,width=1,labelcolor='w')\n",
    "#plt.savefig('matrix_small_Tanh_5555.pdf')\n",
    "\n",
    "plt.show()\n"
   ]
  },
  {
   "cell_type": "code",
   "execution_count": 10,
   "id": "58dded24",
   "metadata": {},
   "outputs": [],
   "source": [
    "\n",
    "evl_big, evc_big = np.linalg.eigh(covg_big)\n",
    "\n",
    "evl_small, evc_small = np.linalg.eigh(covg_small)\n"
   ]
  },
  {
   "cell_type": "code",
   "execution_count": 11,
   "id": "75ca7781",
   "metadata": {
    "scrolled": true
   },
   "outputs": [
    {
     "data": {
      "image/png": "[encoded data removed]",
      "text/plain": [
       "<Figure size 300x300 with 1 Axes>"
      ]
     },
     "metadata": {},
     "output_type": "display_data"
    },
    {
     "data": {
      "image/png": "[encoded data removed]",
      "text/plain": [
       "<Figure size 300x300 with 1 Axes>"
      ]
     },
     "metadata": {},
     "output_type": "display_data"
    }
   ],
   "source": [
    "\n",
    "plt.plot(evl_big,marker='.')\n",
    "plt.ylabel('eigenvalues')\n",
    "#plt.yscale('log')\n",
    "fig = plt.gcf()\n",
    "fig.set_size_inches(3, 3)\n",
    "#plt.savefig('eigenvalues_big_Tanh_555.pdf',bbox_inches=\"tight\")\n",
    "#plt.savefig('eigenvalues_big_Tanh_5555.pdf',bbox_inches=\"tight\")\n",
    "plt.show()\n",
    "\n",
    "plt.plot(evl_small,marker='.')\n",
    "plt.ylabel('eigenvalues')\n",
    "#plt.yscale('log')\n",
    "fig = plt.gcf()\n",
    "fig.set_size_inches(3, 3)\n",
    "#plt.savefig('eigenvalues_small_Tanh_555.pdf',bbox_inches=\"tight\")\n",
    "#plt.savefig('eigenvalues_small_Tanh_5555.pdf',bbox_inches=\"tight\")\n",
    "plt.show()\n",
    "\n",
    "\n",
    "\n",
    "\n",
    "#print(evl_big)\n",
    "#print(evl_small)\n"
   ]
  },
  {
   "cell_type": "code",
   "execution_count": null,
   "id": "cacc7463",
   "metadata": {},
   "outputs": [],
   "source": []
  }
 ],
 "metadata": {
  "kernelspec": {
   "display_name": "Python 3 (ipykernel)",
   "language": "python",
   "name": "python3"
  },
  "language_info": {
   "codemirror_mode": {
    "name": "ipython",
    "version": 3
   },
   "file_extension": ".py",
   "mimetype": "text/x-python",
   "name": "python",
   "nbconvert_exporter": "python",
   "pygments_lexer": "ipython3",
   "version": "3.9.13"
  }
 },
 "nbformat": 4,
 "nbformat_minor": 5
}
