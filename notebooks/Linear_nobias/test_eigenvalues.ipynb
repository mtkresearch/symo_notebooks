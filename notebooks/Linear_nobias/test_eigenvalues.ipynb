{
 "cells": [
  {
   "cell_type": "code",
   "execution_count": 1,
   "id": "534715f8",
   "metadata": {},
   "outputs": [],
   "source": [
    "import numpy as np\n",
    "import matplotlib.pyplot as plt\n",
    "\n",
    "import symmetric_methods as sm\n"
   ]
  },
  {
   "cell_type": "code",
   "execution_count": 2,
   "id": "b90e831c",
   "metadata": {},
   "outputs": [],
   "source": [
    "# MLP structure\n",
    "\n",
    "L = 2\n",
    "\n",
    "dim = np.zeros((L+1,))\n",
    "\n",
    "dim[0] = 10\n",
    "dim[1] = 7\n",
    "dim[2] = 4\n",
    "#dim[3] = 4\n",
    "#dim[4] = 5\n",
    "#dim[5] = 8\n",
    "#dim[6] = 9\n",
    "#dim[7] = 10\n",
    "#dim[8] = 11\n",
    "#dim[9] = 12\n",
    "\n",
    "dim= dim.astype(int)\n"
   ]
  },
  {
   "cell_type": "code",
   "execution_count": 3,
   "id": "e44be257",
   "metadata": {},
   "outputs": [],
   "source": [
    "# draw random parameters, generate matrix and make it positive definite \n",
    "\n",
    "phi = np.random.normal(0,1,(L-2,))\n",
    "PHI1 = np.random.normal(0,1,(dim[0],dim[0]))\n",
    "PHI1 = PHI1 + PHI1.T\n",
    "PHIL = np.random.normal(0,1,(dim[L],dim[L]))\n",
    "PHIL = PHIL + PHIL.T\n",
    "PSI1 = []\n",
    "if L==2:\n",
    "    PSI1 = np.random.normal(0,1,(dim[0],dim[2]))\n",
    "\n",
    "mat = sm.par2cov(L,dim,phi,PHI1,PSI1,PHIL)\n",
    "evl, evc = np.linalg.eigh(mat)\n",
    "\n",
    "evl_small = sm.eig_unique(L,dim,phi,PHI1,PSI1,PHIL)\n",
    "\n",
    "\n"
   ]
  },
  {
   "cell_type": "code",
   "execution_count": 4,
   "id": "d4457ef4",
   "metadata": {},
   "outputs": [
    {
     "name": "stdout",
     "output_type": "stream",
     "text": [
      "[-8.21984508 -8.21984508 -8.21984508 -8.21984508 -8.21984508 -8.21984508\n",
      " -8.21984508 -6.01137635 -6.01137635 -6.01137635 -6.01137635 -6.01137635\n",
      " -6.01137635 -6.01137635 -4.80938816 -4.80938816 -4.80938816 -4.80938816\n",
      " -4.80938816 -4.80938816 -4.80938816 -3.05164463 -3.05164463 -3.05164463\n",
      " -3.05164463 -3.05164463 -3.05164463 -3.05164463 -2.92681075 -2.92681075\n",
      " -2.92681075 -2.92681075 -2.92681075 -2.92681075 -2.92681075 -2.04448023\n",
      " -2.04448023 -2.04448023 -2.04448023 -2.04448023 -2.04448023 -2.04448023\n",
      " -1.48476331 -1.48476331 -1.48476331 -1.48476331 -1.48476331 -1.48476331\n",
      " -1.48476331 -0.19431901 -0.19431901 -0.19431901 -0.19431901 -0.19431901\n",
      " -0.19431901 -0.19431901  1.37136771  1.37136771  1.37136771  1.37136771\n",
      "  1.37136771  1.37136771  1.37136771  1.84294643  1.84294643  1.84294643\n",
      "  1.84294643  1.84294643  1.84294643  1.84294643  3.21051738  3.21051738\n",
      "  3.21051738  3.21051738  3.21051738  3.21051738  3.21051738  4.92441594\n",
      "  4.92441594  4.92441594  4.92441594  4.92441594  4.92441594  4.92441594\n",
      "  6.51583148  6.51583148  6.51583148  6.51583148  6.51583148  6.51583148\n",
      "  6.51583148  9.28457054  9.28457054  9.28457054  9.28457054  9.28457054\n",
      "  9.28457054  9.28457054]\n",
      "\n",
      "\n",
      "[-8.21984508 -6.01137635 -4.80938816 -3.05164463 -2.92681075 -2.04448023\n",
      " -1.48476331 -0.19431901  1.37136771  1.84294643  3.21051738  4.92441594\n",
      "  6.51583148  9.28457054]\n"
     ]
    }
   ],
   "source": [
    "\n",
    "print(evl)\n",
    "print('\\n')\n",
    "print(evl_small)\n"
   ]
  },
  {
   "cell_type": "code",
   "execution_count": null,
   "id": "d270633d",
   "metadata": {},
   "outputs": [],
   "source": []
  }
 ],
 "metadata": {
  "kernelspec": {
   "display_name": "Python 3 (ipykernel)",
   "language": "python",
   "name": "python3"
  },
  "language_info": {
   "codemirror_mode": {
    "name": "ipython",
    "version": 3
   },
   "file_extension": ".py",
   "mimetype": "text/x-python",
   "name": "python",
   "nbconvert_exporter": "python",
   "pygments_lexer": "ipython3",
   "version": "3.9.13"
  }
 },
 "nbformat": 4,
 "nbformat_minor": 5
}
