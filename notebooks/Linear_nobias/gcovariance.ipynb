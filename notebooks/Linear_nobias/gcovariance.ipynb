{
 "cells": [
  {
   "cell_type": "code",
   "execution_count": 1,
   "id": "1034b829",
   "metadata": {},
   "outputs": [],
   "source": [
    "import torch\n",
    "import torchvision\n",
    "import torchvision.transforms as transforms\n",
    "import numpy as np\n",
    "\n",
    "import matplotlib.pyplot as plt\n",
    "%matplotlib inline\n",
    "\n",
    "#import symmetric_methods as sm\n"
   ]
  },
  {
   "cell_type": "code",
   "execution_count": 3,
   "id": "5342729f",
   "metadata": {},
   "outputs": [
    {
     "name": "stdout",
     "output_type": "stream",
     "text": [
      "50\n"
     ]
    }
   ],
   "source": [
    "L=2\n",
    "\n",
    "dim = np.zeros((L+1,))\n",
    "\n",
    "dim[0] = 5\n",
    "dim[1] = 5\n",
    "dim[2] = 5\n",
    "#dim[3] = 5\n",
    "#dim[4] = 7\n",
    "#dim[5] = 5\n",
    "\n",
    "dim= dim.astype(int)\n",
    "\n",
    "npar = 0\n",
    "cpar = np.zeros((L+1,))\n",
    "for iL in range(L):\n",
    "    npar = npar + dim[iL] * dim[iL+1]\n",
    "    cpar[iL+1] = npar\n",
    "npar = npar.astype(int)\n",
    "cpar = cpar.astype(int)\n",
    "\n",
    "print(npar)\n",
    "    \n",
    "num_train_data = 500\n",
    "num_test_data = 500\n",
    "\n",
    "#num_train_data = 150\n",
    "#num_test_data = 150\n",
    "\n",
    "noise = 0"
   ]
  },
  {
   "cell_type": "markdown",
   "id": "68e3e0d6",
   "metadata": {},
   "source": [
    "### Create Neural Network"
   ]
  },
  {
   "cell_type": "code",
   "execution_count": 4,
   "id": "e5e8fe49",
   "metadata": {},
   "outputs": [
    {
     "name": "stdout",
     "output_type": "stream",
     "text": [
      "50\n"
     ]
    }
   ],
   "source": [
    "\n",
    "import torch.nn as nn\n",
    "import torch.nn.functional as F\n",
    "\n",
    "\n",
    "class Net(nn.Module):\n",
    "    def __init__(self):\n",
    "        super().__init__()\n",
    "        layers = [nn.Linear(dim[0],dim[1],bias=False)]\n",
    "        for iL in np.arange(1,L):\n",
    "            layers.append(nn.Linear(dim[iL],dim[iL+1],bias=False))        \n",
    "        self.layers = nn.Sequential(*layers)\n",
    "\n",
    "    def forward(self, x):\n",
    "        return self.layers(x)\n",
    "\n",
    "\n",
    "\n",
    "# Define a custom initialization function using Gaussian distribution\n",
    "def initialize_weights(m):\n",
    "    if isinstance(m, nn.Linear):\n",
    "        # Gaussian initialization \n",
    "        y = m.in_features\n",
    "        nn.init.normal_(m.weight, mean=0.0, std=1/np.sqrt(y)) \n",
    "\n",
    "\n",
    "net_teacher = Net()\n",
    "net_teacher.apply(initialize_weights)\n",
    "\n",
    "net = Net()\n",
    "net.apply(initialize_weights)\n",
    "\n",
    "net0 = Net()\n",
    "net0.load_state_dict(net.state_dict())\n",
    "\n",
    "num_parameters = sum(param.numel() for param in net.parameters())\n",
    "print(num_parameters)\n"
   ]
  },
  {
   "cell_type": "code",
   "execution_count": null,
   "id": "295a7206",
   "metadata": {},
   "outputs": [],
   "source": [
    "# print list of all parameter tensors\n",
    "print(list(net.parameters()))"
   ]
  },
  {
   "cell_type": "markdown",
   "id": "e88691c1",
   "metadata": {},
   "source": [
    "### Input data"
   ]
  },
  {
   "cell_type": "code",
   "execution_count": 5,
   "id": "dc0e6fb3",
   "metadata": {},
   "outputs": [],
   "source": [
    "# gradient on linear regression has D ~ (unif)^(1/(1-beta)) --> p(D) ~ D^(-beta) --> Loss(t) ~ t^(beta-2)\n",
    "\n",
    "D = np.logspace(0,-5,dim[0])\n",
    "#D = 1./(np.linspace(1,1000,dim[0])**2)\n",
    "#D = np.linspace(0,1,dim[0])**2\n",
    "\n",
    "Sigma, R = np.linalg.qr(np.random.normal(np.zeros((dim[0],dim[0])),1))\n",
    "Sigma = (Sigma * D) @ Sigma.T\n",
    "inputs_train = torch.from_numpy(np.random.multivariate_normal(np.zeros((dim[0],)),Sigma,size=(num_train_data,))).to(torch.float)\n",
    "inputs_test = torch.from_numpy(np.random.multivariate_normal(np.zeros((dim[0],)),Sigma,size=(num_test_data,))).to(torch.float)\n",
    "\n"
   ]
  },
  {
   "cell_type": "markdown",
   "id": "9ccde7cb",
   "metadata": {},
   "source": [
    "### Output data"
   ]
  },
  {
   "cell_type": "code",
   "execution_count": 6,
   "id": "9500eb35",
   "metadata": {},
   "outputs": [],
   "source": [
    "\n",
    "# teacher - student\n",
    "\n",
    "with torch.no_grad():\n",
    "    labels_train = net_teacher(inputs_train) + torch.from_numpy(noise * np.random.normal(np.zeros((num_train_data,dim[L])),1)).to(torch.float)  \n",
    "with torch.no_grad():\n",
    "    labels_test = net_teacher(inputs_test) + torch.from_numpy(noise * np.random.normal(np.zeros((num_test_data,dim[L])),1)).to(torch.float)\n",
    "\n",
    "\n"
   ]
  },
  {
   "cell_type": "markdown",
   "id": "6f83bad7",
   "metadata": {},
   "source": [
    "### Gradient statistics"
   ]
  },
  {
   "cell_type": "code",
   "execution_count": 7,
   "id": "4e558fff",
   "metadata": {},
   "outputs": [
    {
     "name": "stdout",
     "output_type": "stream",
     "text": [
      "100\n",
      "200\n",
      "300\n",
      "400\n",
      "500\n",
      "600\n",
      "700\n",
      "800\n",
      "900\n",
      "1000\n",
      "1100\n",
      "1200\n",
      "1300\n",
      "1400\n",
      "1500\n",
      "1600\n",
      "1700\n",
      "1800\n",
      "1900\n",
      "2000\n",
      "2100\n",
      "2200\n",
      "2300\n",
      "2400\n",
      "2500\n",
      "2600\n",
      "2700\n",
      "2800\n",
      "2900\n",
      "3000\n",
      "3100\n",
      "3200\n",
      "3300\n",
      "3400\n",
      "3500\n",
      "3600\n",
      "3700\n",
      "3800\n",
      "3900\n",
      "4000\n",
      "4100\n",
      "4200\n",
      "4300\n",
      "4400\n",
      "4500\n",
      "4600\n",
      "4700\n",
      "4800\n",
      "4900\n",
      "5000\n",
      "5100\n",
      "5200\n",
      "5300\n",
      "5400\n",
      "5500\n",
      "5600\n",
      "5700\n",
      "5800\n",
      "5900\n",
      "6000\n",
      "6100\n",
      "6200\n",
      "6300\n",
      "6400\n",
      "6500\n",
      "6600\n",
      "6700\n",
      "6800\n",
      "6900\n",
      "7000\n",
      "7100\n",
      "7200\n",
      "7300\n",
      "7400\n",
      "7500\n",
      "7600\n",
      "7700\n",
      "7800\n",
      "7900\n",
      "8000\n",
      "8100\n",
      "8200\n",
      "8300\n",
      "8400\n",
      "8500\n",
      "8600\n",
      "8700\n",
      "8800\n",
      "8900\n",
      "9000\n",
      "9100\n",
      "9200\n",
      "9300\n",
      "9400\n",
      "9500\n",
      "9600\n",
      "9700\n",
      "9800\n",
      "9900\n",
      "10000\n"
     ]
    }
   ],
   "source": [
    "N = 10000\n",
    "num_updates = 0\n",
    "learning_rate = 0.2\n",
    "\n",
    "avggrad = torch.zeros(num_parameters,1)\n",
    "covgrad = torch.zeros(num_parameters,num_parameters)\n",
    "grad_rec = torch.zeros(num_parameters,N)\n",
    "\n",
    "lossavg = torch.zeros(num_updates+1,)\n",
    "\n",
    "for iN in np.arange(0,N):\n",
    "    \n",
    "    if (iN+1)%(N/100)==0:\n",
    "        print(iN+1)\n",
    "    \n",
    "    net.apply(initialize_weights)\n",
    "\n",
    "    # Forward pass\n",
    "    outputs_train = net(inputs_train)\n",
    "\n",
    "    # Compute the loss\n",
    "    loss = torch.norm(outputs_train-labels_train)**2 / num_train_data / 2\n",
    "    with torch.no_grad():\n",
    "        lossavg[0] = lossavg[0] + loss\n",
    "\n",
    "    # Compute first-order gradients (Jacobian)\n",
    "    grads = torch.autograd.grad(loss, net.parameters())        \n",
    "        \n",
    "    for upd in range(num_updates):\n",
    "        \n",
    "        with torch.no_grad():  # Disable gradient computation for manual update\n",
    "            for param, grad in zip(net.parameters(), grads):\n",
    "                param -= learning_rate * grad\n",
    "    \n",
    "        outputs_train = net(inputs_train)\n",
    "        loss = torch.norm(outputs_train-labels_train)**2 / num_train_data / 2\n",
    "        grads = torch.autograd.grad(loss, net.parameters())\n",
    "        \n",
    "        with torch.no_grad():\n",
    "            lossavg[upd+1] = lossavg[upd+1] + loss\n",
    "    \n",
    "    # Flatten gradients of all tensors (in column major order, Fortran style!)\n",
    "    grad_all = torch.cat([g.T.reshape(-1,1) for g in grads])\n",
    "    grad_rec[:,iN] =  torch.squeeze(grad_all)\n",
    "    \n",
    "    avggrad += grad_all\n",
    "    covgrad += grad_all @ grad_all.T\n",
    "    \n",
    "avggrad /= N\n",
    "covgrad /= N\n",
    "\n",
    "lossavg /= N\n",
    "\n",
    "covgrad = covgrad - avggrad @ avggrad.T\n"
   ]
  },
  {
   "cell_type": "code",
   "execution_count": 8,
   "id": "61ce73d3",
   "metadata": {},
   "outputs": [
    {
     "data": {
      "image/png": "[encoded data removed]",
      "text/plain": [
       "<Figure size 432x288 with 1 Axes>"
      ]
     },
     "metadata": {
      "needs_background": "light"
     },
     "output_type": "display_data"
    }
   ],
   "source": [
    "\n",
    "plt.plot(lossavg)\n",
    "plt.show()\n"
   ]
  },
  {
   "cell_type": "code",
   "execution_count": 9,
   "id": "5febb3d7",
   "metadata": {},
   "outputs": [
    {
     "data": {
      "image/png": "[encoded data removed]",
      "text/plain": [
       "<Figure size 1080x1080 with 1 Axes>"
      ]
     },
     "metadata": {
      "needs_background": "light"
     },
     "output_type": "display_data"
    },
    {
     "data": {
      "image/png": "[encoded data removed]",
      "text/plain": [
       "<Figure size 1080x1080 with 2 Axes>"
      ]
     },
     "metadata": {},
     "output_type": "display_data"
    }
   ],
   "source": [
    "plt.plot(avggrad)\n",
    "#plt.plot(grad_all)\n",
    "fig = plt.gcf()\n",
    "fig.set_size_inches(15, 15)\n",
    "#plt.ylim((-0.1,0.1))\n",
    "plt.show()\n",
    "\n",
    "\n",
    "\n",
    "\n",
    "\n",
    "plt.imshow(covgrad)\n",
    "cb=plt.colorbar(format='%1.1e')\n",
    "cb.ax.tick_params(labelsize=20)\n",
    "\n",
    "plt.xticks(ticks=[-0.5, 24.5, 49.5],labels=None)\n",
    "plt.yticks(ticks=[-0.5, 24.5, 49.5],labels=None)\n",
    "plt.tick_params(axis='both',direction='out',length=50,width=2,labelcolor='w')\n",
    "\n",
    "#plt.xticks(ticks=[-0.5, 24.5, 29.5, 54.5, 59.5, 84.5, 89.5],labels=None)\n",
    "#plt.yticks(ticks=[-0.5, 24.5, 29.5, 54.5, 59.5, 84.5, 89.5],labels=None)\n",
    "#plt.tick_params(axis='both',direction='out',length=30,width=2,labelcolor='w')\n",
    "#plt.clim((-0.2,0.2))\n",
    "#plt.clim((-0.00005,0.00005))\n",
    "\n",
    "fig = plt.gcf()\n",
    "fig.set_size_inches(15, 15)\n",
    "#plt.savefig('cov_Lin_555_N10000_t00.pdf')\n",
    "#plt.savefig('cov_Lin_5555_N10000_t00.pdf')\n",
    "#plt.savefig('cov_Lin_555_N10000_t20_lr02.pdf')\n",
    "#plt.savefig('cov_Lin_5555_N10000_t20_lr02.pdf')\n",
    "plt.show()\n",
    "\n"
   ]
  },
  {
   "cell_type": "code",
   "execution_count": null,
   "id": "81d7eacb",
   "metadata": {},
   "outputs": [],
   "source": [
    "\n",
    "#PATH = './cov_Lin_555_N10000_t20_lr02.pt'\n",
    "#PATH = './cov_Lin_555_N10000_t00.pt'\n",
    "#PATH = './cov_Lin_5555_N10000_t20_lr02.pt'\n",
    "#PATH = './cov_Lin_5555_N10000_t00.pt'\n",
    "\n",
    "#torch.save({'dim':dim, 'D':D, 'num_train_data':num_train_data, 'num_test_data':num_test_data, 'noise':noise, 'learning_rate':learning_rate, 'N':N, 'lossavg':lossavg, 'num_updates':num_updates, 'avggrad':avggrad, 'covgrad':covgrad}, PATH)\n"
   ]
  },
  {
   "cell_type": "code",
   "execution_count": 2,
   "id": "838dd339",
   "metadata": {},
   "outputs": [
    {
     "ename": "FileNotFoundError",
     "evalue": "[Errno 2] No such file or directory: 'cov_Lin_555_N10000_t00.pt'",
     "output_type": "error",
     "traceback": [
      "\u001b[0;31m---------------------------------------------------------------------------\u001b[0m",
      "\u001b[0;31mFileNotFoundError\u001b[0m                         Traceback (most recent call last)",
      "\u001b[0;32m<ipython-input-2-9e79c1141e68>\u001b[0m in \u001b[0;36m<module>\u001b[0;34m()\u001b[0m\n\u001b[1;32m      1\u001b[0m \u001b[0;34m\u001b[0m\u001b[0m\n\u001b[0;32m----> 2\u001b[0;31m \u001b[0mdic\u001b[0m \u001b[0;34m=\u001b[0m \u001b[0mtorch\u001b[0m\u001b[0;34m.\u001b[0m\u001b[0mload\u001b[0m\u001b[0;34m(\u001b[0m\u001b[0;34m'cov_Lin_555_N10000_t00.pt'\u001b[0m\u001b[0;34m)\u001b[0m\u001b[0;34m\u001b[0m\u001b[0;34m\u001b[0m\u001b[0m\n\u001b[0m\u001b[1;32m      3\u001b[0m \u001b[0;31m#dic = torch.load('cov_Lin_555_N10000_t20_lr02.pt')\u001b[0m\u001b[0;34m\u001b[0m\u001b[0;34m\u001b[0m\u001b[0;34m\u001b[0m\u001b[0m\n\u001b[1;32m      4\u001b[0m \u001b[0;31m#dic = torch.load('cov_Lin_5555_N10000_t00.pt')\u001b[0m\u001b[0;34m\u001b[0m\u001b[0;34m\u001b[0m\u001b[0;34m\u001b[0m\u001b[0m\n\u001b[1;32m      5\u001b[0m \u001b[0;31m#dic = torch.load('cov_Lin_5555_N10000_t20_lr02.pt')\u001b[0m\u001b[0;34m\u001b[0m\u001b[0;34m\u001b[0m\u001b[0;34m\u001b[0m\u001b[0m\n",
      "\u001b[0;32m/Users/alberto/opt/anaconda3/envs/my-torch/lib/python3.6/site-packages/torch/serialization.py\u001b[0m in \u001b[0;36mload\u001b[0;34m(f, map_location, pickle_module, **pickle_load_args)\u001b[0m\n\u001b[1;32m    592\u001b[0m         \u001b[0mpickle_load_args\u001b[0m\u001b[0;34m[\u001b[0m\u001b[0;34m'encoding'\u001b[0m\u001b[0;34m]\u001b[0m \u001b[0;34m=\u001b[0m \u001b[0;34m'utf-8'\u001b[0m\u001b[0;34m\u001b[0m\u001b[0;34m\u001b[0m\u001b[0m\n\u001b[1;32m    593\u001b[0m \u001b[0;34m\u001b[0m\u001b[0m\n\u001b[0;32m--> 594\u001b[0;31m     \u001b[0;32mwith\u001b[0m \u001b[0m_open_file_like\u001b[0m\u001b[0;34m(\u001b[0m\u001b[0mf\u001b[0m\u001b[0;34m,\u001b[0m \u001b[0;34m'rb'\u001b[0m\u001b[0;34m)\u001b[0m \u001b[0;32mas\u001b[0m \u001b[0mopened_file\u001b[0m\u001b[0;34m:\u001b[0m\u001b[0;34m\u001b[0m\u001b[0;34m\u001b[0m\u001b[0m\n\u001b[0m\u001b[1;32m    595\u001b[0m         \u001b[0;32mif\u001b[0m \u001b[0m_is_zipfile\u001b[0m\u001b[0;34m(\u001b[0m\u001b[0mopened_file\u001b[0m\u001b[0;34m)\u001b[0m\u001b[0;34m:\u001b[0m\u001b[0;34m\u001b[0m\u001b[0;34m\u001b[0m\u001b[0m\n\u001b[1;32m    596\u001b[0m             \u001b[0;31m# The zipfile reader is going to advance the current file position.\u001b[0m\u001b[0;34m\u001b[0m\u001b[0;34m\u001b[0m\u001b[0;34m\u001b[0m\u001b[0m\n",
      "\u001b[0;32m/Users/alberto/opt/anaconda3/envs/my-torch/lib/python3.6/site-packages/torch/serialization.py\u001b[0m in \u001b[0;36m_open_file_like\u001b[0;34m(name_or_buffer, mode)\u001b[0m\n\u001b[1;32m    228\u001b[0m \u001b[0;32mdef\u001b[0m \u001b[0m_open_file_like\u001b[0m\u001b[0;34m(\u001b[0m\u001b[0mname_or_buffer\u001b[0m\u001b[0;34m,\u001b[0m \u001b[0mmode\u001b[0m\u001b[0;34m)\u001b[0m\u001b[0;34m:\u001b[0m\u001b[0;34m\u001b[0m\u001b[0;34m\u001b[0m\u001b[0m\n\u001b[1;32m    229\u001b[0m     \u001b[0;32mif\u001b[0m \u001b[0m_is_path\u001b[0m\u001b[0;34m(\u001b[0m\u001b[0mname_or_buffer\u001b[0m\u001b[0;34m)\u001b[0m\u001b[0;34m:\u001b[0m\u001b[0;34m\u001b[0m\u001b[0;34m\u001b[0m\u001b[0m\n\u001b[0;32m--> 230\u001b[0;31m         \u001b[0;32mreturn\u001b[0m \u001b[0m_open_file\u001b[0m\u001b[0;34m(\u001b[0m\u001b[0mname_or_buffer\u001b[0m\u001b[0;34m,\u001b[0m \u001b[0mmode\u001b[0m\u001b[0;34m)\u001b[0m\u001b[0;34m\u001b[0m\u001b[0;34m\u001b[0m\u001b[0m\n\u001b[0m\u001b[1;32m    231\u001b[0m     \u001b[0;32melse\u001b[0m\u001b[0;34m:\u001b[0m\u001b[0;34m\u001b[0m\u001b[0;34m\u001b[0m\u001b[0m\n\u001b[1;32m    232\u001b[0m         \u001b[0;32mif\u001b[0m \u001b[0;34m'w'\u001b[0m \u001b[0;32min\u001b[0m \u001b[0mmode\u001b[0m\u001b[0;34m:\u001b[0m\u001b[0;34m\u001b[0m\u001b[0;34m\u001b[0m\u001b[0m\n",
      "\u001b[0;32m/Users/alberto/opt/anaconda3/envs/my-torch/lib/python3.6/site-packages/torch/serialization.py\u001b[0m in \u001b[0;36m__init__\u001b[0;34m(self, name, mode)\u001b[0m\n\u001b[1;32m    209\u001b[0m \u001b[0;32mclass\u001b[0m \u001b[0m_open_file\u001b[0m\u001b[0;34m(\u001b[0m\u001b[0m_opener\u001b[0m\u001b[0;34m)\u001b[0m\u001b[0;34m:\u001b[0m\u001b[0;34m\u001b[0m\u001b[0;34m\u001b[0m\u001b[0m\n\u001b[1;32m    210\u001b[0m     \u001b[0;32mdef\u001b[0m \u001b[0m__init__\u001b[0m\u001b[0;34m(\u001b[0m\u001b[0mself\u001b[0m\u001b[0;34m,\u001b[0m \u001b[0mname\u001b[0m\u001b[0;34m,\u001b[0m \u001b[0mmode\u001b[0m\u001b[0;34m)\u001b[0m\u001b[0;34m:\u001b[0m\u001b[0;34m\u001b[0m\u001b[0;34m\u001b[0m\u001b[0m\n\u001b[0;32m--> 211\u001b[0;31m         \u001b[0msuper\u001b[0m\u001b[0;34m(\u001b[0m\u001b[0m_open_file\u001b[0m\u001b[0;34m,\u001b[0m \u001b[0mself\u001b[0m\u001b[0;34m)\u001b[0m\u001b[0;34m.\u001b[0m\u001b[0m__init__\u001b[0m\u001b[0;34m(\u001b[0m\u001b[0mopen\u001b[0m\u001b[0;34m(\u001b[0m\u001b[0mname\u001b[0m\u001b[0;34m,\u001b[0m \u001b[0mmode\u001b[0m\u001b[0;34m)\u001b[0m\u001b[0;34m)\u001b[0m\u001b[0;34m\u001b[0m\u001b[0;34m\u001b[0m\u001b[0m\n\u001b[0m\u001b[1;32m    212\u001b[0m \u001b[0;34m\u001b[0m\u001b[0m\n\u001b[1;32m    213\u001b[0m     \u001b[0;32mdef\u001b[0m \u001b[0m__exit__\u001b[0m\u001b[0;34m(\u001b[0m\u001b[0mself\u001b[0m\u001b[0;34m,\u001b[0m \u001b[0;34m*\u001b[0m\u001b[0margs\u001b[0m\u001b[0;34m)\u001b[0m\u001b[0;34m:\u001b[0m\u001b[0;34m\u001b[0m\u001b[0;34m\u001b[0m\u001b[0m\n",
      "\u001b[0;31mFileNotFoundError\u001b[0m: [Errno 2] No such file or directory: 'cov_Lin_555_N10000_t00.pt'"
     ]
    }
   ],
   "source": [
    "\n",
    "#dic = torch.load('cov_Lin_555_N10000_t00.pt')\n",
    "#dic = torch.load('cov_Lin_555_N10000_t20_lr02.pt')\n",
    "#dic = torch.load('cov_Lin_5555_N10000_t00.pt')\n",
    "#dic = torch.load('cov_Lin_5555_N10000_t20_lr02.pt')\n",
    "\n",
    "dim = dic['dim']\n",
    "D = dic['D']\n",
    "num_train_data = dic['num_train_data']\n",
    "num_test_data = dic['num_test_data']\n",
    "noise = dic['noise']\n",
    "learning_rate = dic['learning_rate']\n",
    "N = dic['N']\n",
    "lossavg = dic['lossavg']\n",
    "num_updates = dic['num_updates']\n",
    "avggrad = dic['avggrad']\n",
    "covgrad = dic['covgrad']\n"
   ]
  },
  {
   "cell_type": "code",
   "execution_count": null,
   "id": "2f1838c7",
   "metadata": {},
   "outputs": [],
   "source": []
  },
  {
   "cell_type": "code",
   "execution_count": null,
   "id": "a28dd71f",
   "metadata": {},
   "outputs": [],
   "source": [
    "\n",
    "jN = 6\n",
    "\n",
    "plt.plot(grad_rec[:,jN])\n",
    "plt.show()\n",
    "\n",
    "for iL in range(L):\n",
    "    plt.imshow(np.reshape(grad_rec[cpar[iL]:cpar[iL+1],jN],(dim[iL+1],dim[iL]+1),order='F'))\n",
    "    plt.colorbar()\n",
    "    plt.show()\n",
    "\n",
    "\n",
    "\n",
    "\n"
   ]
  },
  {
   "cell_type": "markdown",
   "id": "14167da4",
   "metadata": {},
   "source": [
    "### Hessian"
   ]
  },
  {
   "cell_type": "code",
   "execution_count": 10,
   "id": "5cb50b43",
   "metadata": {},
   "outputs": [
    {
     "name": "stdout",
     "output_type": "stream",
     "text": [
      "100\n",
      "200\n",
      "300\n",
      "400\n",
      "500\n",
      "600\n",
      "700\n",
      "800\n",
      "900\n",
      "1000\n",
      "1100\n",
      "1200\n",
      "1300\n",
      "1400\n",
      "1500\n",
      "1600\n",
      "1700\n",
      "1800\n",
      "1900\n",
      "2000\n",
      "2100\n",
      "2200\n",
      "2300\n",
      "2400\n",
      "2500\n",
      "2600\n",
      "2700\n",
      "2800\n",
      "2900\n",
      "3000\n",
      "3100\n",
      "3200\n",
      "3300\n",
      "3400\n",
      "3500\n",
      "3600\n",
      "3700\n",
      "3800\n",
      "3900\n",
      "4000\n",
      "4100\n",
      "4200\n",
      "4300\n",
      "4400\n",
      "4500\n",
      "4600\n",
      "4700\n",
      "4800\n",
      "4900\n",
      "5000\n",
      "5100\n",
      "5200\n",
      "5300\n",
      "5400\n",
      "5500\n",
      "5600\n",
      "5700\n",
      "5800\n",
      "5900\n",
      "6000\n",
      "6100\n",
      "6200\n",
      "6300\n",
      "6400\n",
      "6500\n",
      "6600\n",
      "6700\n",
      "6800\n",
      "6900\n",
      "7000\n",
      "7100\n",
      "7200\n",
      "7300\n",
      "7400\n",
      "7500\n",
      "7600\n",
      "7700\n",
      "7800\n",
      "7900\n",
      "8000\n",
      "8100\n",
      "8200\n",
      "8300\n",
      "8400\n",
      "8500\n",
      "8600\n",
      "8700\n",
      "8800\n",
      "8900\n",
      "9000\n",
      "9100\n",
      "9200\n",
      "9300\n",
      "9400\n",
      "9500\n",
      "9600\n",
      "9700\n",
      "9800\n",
      "9900\n",
      "10000\n"
     ]
    }
   ],
   "source": [
    "\n",
    "N = 10000\n",
    "num_updates = 0\n",
    "learning_rate = 0.2\n",
    "\n",
    "avgHess = torch.zeros(num_parameters,num_parameters)\n",
    "#evlrec = np.zeros((num_parameters,N))\n",
    "lossavg = torch.zeros(num_updates+1,)\n",
    "\n",
    "for iN in np.arange(0,N):\n",
    "    \n",
    "    if (iN+1)%(N/100)==0:\n",
    "        print(iN+1)\n",
    "    \n",
    "    net.apply(initialize_weights)\n",
    "\n",
    "    # Forward pass\n",
    "    outputs_train = net(inputs_train)\n",
    "\n",
    "    # Compute the loss\n",
    "    loss = torch.norm(outputs_train-labels_train)**2 / num_train_data / 2\n",
    "    with torch.no_grad():\n",
    "        lossavg[0] = lossavg[0] + loss\n",
    "\n",
    "    for upd in range(num_updates):\n",
    "        \n",
    "        grads = torch.autograd.grad(loss, net.parameters(), create_graph=False)\n",
    "        with torch.no_grad():  # Disable gradient computation for manual update\n",
    "            for param, grad in zip(net.parameters(), grads):\n",
    "                param -= learning_rate * grad\n",
    "    \n",
    "        outputs_train = net(inputs_train)\n",
    "        loss = torch.norm(outputs_train-labels_train)**2 / num_train_data / 2\n",
    "        \n",
    "        with torch.no_grad():\n",
    "            lossavg[upd+1] = lossavg[upd+1] + loss\n",
    "\n",
    "\n",
    "    grads = torch.autograd.grad(loss, net.parameters(), create_graph=True)\n",
    "\n",
    "    # Initialize a list to store the Hessian for each parameter\n",
    "    hessian = []\n",
    "\n",
    "    # Compute the second-order gradients (Hessian)\n",
    "    for grad in grads:\n",
    "        #grad_flat = grad.view(-1)  # Flatten the gradient\n",
    "        grad_flat = grad.T.reshape(-1,1)  # Flatten the gradient\n",
    "        hessian_per_param = []\n",
    "        for g in grad_flat:\n",
    "            # Compute second derivatives\n",
    "            hess = torch.autograd.grad(g, net.parameters(), retain_graph=True)\n",
    "            #hess_flat = torch.cat([h.view(-1) for h in hess])\n",
    "            hess_flat = torch.cat([h.T.reshape(-1,1) for h in hess])\n",
    "            hessian_per_param.append(hess_flat)\n",
    "    \n",
    "        # Stack second derivatives into a matrix (Hessian)\n",
    "        hessian.append(torch.stack(hessian_per_param))\n",
    "    \n",
    "    Hess = torch.cat([h for h in hessian], dim=0)\n",
    "    avgHess += torch.squeeze(Hess)\n",
    "    \n",
    "    #evl, evc = np.linalg.eigh(torch.squeeze(Hess))\n",
    "    #evlrec[:,iN] = evl\n",
    "\n",
    "    \n",
    "avgHess /= N\n",
    "lossavg /= N\n",
    "\n"
   ]
  },
  {
   "cell_type": "code",
   "execution_count": null,
   "id": "c8b2611f",
   "metadata": {},
   "outputs": [],
   "source": [
    "\n",
    "plt.plot(lossavg)\n",
    "plt.show()\n"
   ]
  },
  {
   "cell_type": "code",
   "execution_count": null,
   "id": "6c231b38",
   "metadata": {},
   "outputs": [],
   "source": [
    "plt.imshow(avgHess)\n",
    "#plt.clim((-250,250))\n",
    "plt.clim((-0.4,0.4))\n",
    "fig = plt.gcf()\n",
    "fig.set_size_inches(15, 15)\n",
    "cb=plt.colorbar(format='%1.1e')\n",
    "cb.ax.tick_params(labelsize=20)\n",
    "\n",
    "plt.xticks(ticks=[-0.5, 24.5, 49.5],labels=None)\n",
    "plt.yticks(ticks=[-0.5, 24.5, 49.5],labels=None)\n",
    "plt.tick_params(axis='both',direction='out',length=50,width=2,labelcolor='w')\n",
    "\n",
    "#plt.xticks(ticks=[-0.5, 24.5, 29.5, 54.5, 59.5, 84.5, 89.5],labels=None)\n",
    "#plt.yticks(ticks=[-0.5, 24.5, 29.5, 54.5, 59.5, 84.5, 89.5],labels=None)\n",
    "#plt.tick_params(axis='both',direction='out',length=30,width=2,labelcolor='w')\n",
    "\n",
    "#plt.savefig('hes_Lin_555_N10000_t00.pdf')\n",
    "#plt.savefig('hes_Lin_555_N10000_t20_lr02.pdf')\n",
    "#plt.savefig('hes_Lin_5555_N10000_t00.pdf')\n",
    "#plt.savefig('hes_Lin_5555_N10000_t20_lr02.pdf')\n",
    "\n",
    "plt.show()\n"
   ]
  },
  {
   "cell_type": "code",
   "execution_count": null,
   "id": "33e24741",
   "metadata": {},
   "outputs": [],
   "source": [
    "\n",
    "#PATH = './hes_Lin_555_N10000_t00.pt'\n",
    "#PATH = './hes_Lin_555_N10000_t20_lr02.pt'\n",
    "#PATH = './hes_Lin_5555_N10000_t00.pt'\n",
    "#PATH = './hes_Lin_5555_N10000_t20_lr02.pt'\n",
    "\n",
    "#torch.save({'dim':dim, 'D':D, 'num_train_data':num_train_data, 'num_test_data':num_test_data, 'noise':noise, 'learning_rate':learning_rate, 'N':N, 'lossavg':lossavg, 'num_updates':num_updates, 'avgHess':avgHess}, PATH)\n"
   ]
  },
  {
   "cell_type": "code",
   "execution_count": null,
   "id": "3744cb7c",
   "metadata": {},
   "outputs": [],
   "source": [
    "\n",
    "dic = torch.load('hes_Tanh_5555_N10000_t20_lr02.pt')\n",
    "\n",
    "dim = dic['dim']\n",
    "D = dic['D']\n",
    "num_train_data = dic['num_train_data']\n",
    "num_test_data = dic['num_test_data']\n",
    "noise = dic['noise']\n",
    "learning_rate = dic['learning_rate']\n",
    "N = dic['N']\n",
    "lossavg = dic['lossavg']\n",
    "num_updates = dic['num_updates']\n",
    "avgHess = dic['avgHess']\n"
   ]
  },
  {
   "cell_type": "code",
   "execution_count": 15,
   "id": "9bc140c5",
   "metadata": {},
   "outputs": [
    {
     "data": {
      "image/png": "[encoded data removed]",
      "text/plain": [
       "<Figure size 432x288 with 1 Axes>"
      ]
     },
     "metadata": {
      "needs_background": "light"
     },
     "output_type": "display_data"
    },
    {
     "data": {
      "image/png": "[encoded data removed]",
      "text/plain": [
       "<Figure size 432x288 with 1 Axes>"
      ]
     },
     "metadata": {
      "needs_background": "light"
     },
     "output_type": "display_data"
    }
   ],
   "source": [
    "\n",
    "plt.scatter(avgHess,covgrad)\n",
    "plt.show()\n",
    "\n",
    "evl, evc = np.linalg.eigh(covgrad)\n",
    "sqrtcov = (evc * np.sqrt(np.abs(evl))) @ evc.T\n",
    "\n",
    "plt.scatter(avgHess,sqrtcov)\n",
    "plt.show()\n",
    "\n"
   ]
  },
  {
   "cell_type": "code",
   "execution_count": 16,
   "id": "969acb11",
   "metadata": {},
   "outputs": [],
   "source": [
    "\n",
    "dum = np.zeros((2,npar**2))\n",
    "dum[0,:] = avgHess.reshape((1,npar**2))\n",
    "#dum[1,:] = covgrad.reshape((1,npar**2))\n",
    "dum[1,:] = sqrtcov.reshape((1,npar**2))\n",
    "\n",
    "\n",
    "cc = np.corrcoef(dum)\n"
   ]
  },
  {
   "cell_type": "code",
   "execution_count": 17,
   "id": "b59d7d8a",
   "metadata": {},
   "outputs": [
    {
     "name": "stdout",
     "output_type": "stream",
     "text": [
      "[[1.         0.79212949]\n",
      " [0.79212949 1.        ]]\n"
     ]
    }
   ],
   "source": [
    "\n",
    "print(cc)\n"
   ]
  },
  {
   "cell_type": "code",
   "execution_count": null,
   "id": "312e0ee2",
   "metadata": {},
   "outputs": [],
   "source": []
  },
  {
   "cell_type": "markdown",
   "id": "0125aa1f",
   "metadata": {},
   "source": [
    "### Hessian and gradient correlations"
   ]
  },
  {
   "cell_type": "code",
   "execution_count": 26,
   "id": "d9fc1953",
   "metadata": {},
   "outputs": [
    {
     "name": "stdout",
     "output_type": "stream",
     "text": [
      "100\n",
      "200\n",
      "300\n",
      "400\n",
      "500\n",
      "600\n",
      "700\n",
      "800\n",
      "900\n",
      "1000\n",
      "1100\n",
      "1200\n",
      "1300\n",
      "1400\n",
      "1500\n",
      "1600\n",
      "1700\n",
      "1800\n",
      "1900\n",
      "2000\n",
      "2100\n",
      "2200\n",
      "2300\n",
      "2400\n",
      "2500\n",
      "2600\n",
      "2700\n",
      "2800\n",
      "2900\n",
      "3000\n",
      "3100\n",
      "3200\n",
      "3300\n",
      "3400\n",
      "3500\n",
      "3600\n",
      "3700\n",
      "3800\n",
      "3900\n",
      "4000\n",
      "4100\n",
      "4200\n",
      "4300\n",
      "4400\n",
      "4500\n",
      "4600\n",
      "4700\n",
      "4800\n",
      "4900\n",
      "5000\n",
      "5100\n",
      "5200\n",
      "5300\n",
      "5400\n",
      "5500\n",
      "5600\n",
      "5700\n",
      "5800\n",
      "5900\n",
      "6000\n",
      "6100\n",
      "6200\n",
      "6300\n",
      "6400\n",
      "6500\n",
      "6600\n",
      "6700\n",
      "6800\n",
      "6900\n",
      "7000\n",
      "7100\n",
      "7200\n",
      "7300\n",
      "7400\n",
      "7500\n",
      "7600\n",
      "7700\n",
      "7800\n",
      "7900\n",
      "8000\n",
      "8100\n",
      "8200\n",
      "8300\n",
      "8400\n",
      "8500\n",
      "8600\n",
      "8700\n",
      "8800\n",
      "8900\n",
      "9000\n",
      "9100\n",
      "9200\n",
      "9300\n",
      "9400\n",
      "9500\n",
      "9600\n",
      "9700\n",
      "9800\n",
      "9900\n",
      "10000\n"
     ]
    }
   ],
   "source": [
    "\n",
    "N = 10000\n",
    "num_updates = 0\n",
    "learning_rate = 0.2\n",
    "\n",
    "#avggrad = torch.zeros(num_parameters,1)\n",
    "#covgrad = torch.zeros(num_parameters,num_parameters)\n",
    "#secgrad = torch.zeros(num_parameters,num_parameters)\n",
    "#grad_rec = torch.zeros(num_parameters,N)\n",
    "avgHess = torch.zeros(num_parameters,num_parameters)\n",
    "#Hgg = torch.zeros(num_parameters,num_parameters)\n",
    "HU = torch.zeros(num_parameters,num_parameters)\n",
    "\n",
    "evl, evc = np.linalg.eigh(covgrad)\n",
    "srcov = (evc * np.sqrt(np.abs(evl))) @ evc.T\n",
    "isrcov = (evc * 1/np.sqrt(np.abs(evl))) @ evc.T\n",
    "\n",
    "lossavg = torch.zeros(num_updates+1,)\n",
    "\n",
    "for iN in np.arange(0,N):\n",
    "    \n",
    "    if (iN+1)%(N/100)==0:\n",
    "        print(iN+1)\n",
    "    \n",
    "    net.apply(initialize_weights)\n",
    "\n",
    "    # Forward pass\n",
    "    outputs_train = net(inputs_train)\n",
    "\n",
    "    # Compute the loss\n",
    "    loss = torch.norm(outputs_train-labels_train)**2 / num_train_data / 2\n",
    "    with torch.no_grad():\n",
    "        lossavg[0] = lossavg[0] + loss       \n",
    "\n",
    "    for upd in range(num_updates):\n",
    "        \n",
    "        grads = torch.autograd.grad(loss, net.parameters(), create_graph=False)\n",
    "        with torch.no_grad():  # Disable gradient computation for manual update\n",
    "            for param, grad in zip(net.parameters(), grads):\n",
    "                param -= learning_rate * grad\n",
    "    \n",
    "        outputs_train = net(inputs_train)\n",
    "        loss = torch.norm(outputs_train-labels_train)**2 / num_train_data / 2\n",
    "        \n",
    "        with torch.no_grad():\n",
    "            lossavg[upd+1] = lossavg[upd+1] + loss\n",
    "\n",
    "    grads = torch.autograd.grad(loss, net.parameters(), create_graph=True)\n",
    "    \n",
    "    # Initialize a list to store the Hessian for each parameter\n",
    "    hessian = []\n",
    "\n",
    "    # Compute the second-order gradients (Hessian)\n",
    "    for grad in grads:\n",
    "        #grad_flat = grad.view(-1)  # Flatten the gradient\n",
    "        grad_flat = grad.T.reshape(-1,1)  # Flatten the gradient\n",
    "        hessian_per_param = []\n",
    "        for g in grad_flat:\n",
    "            # Compute second derivatives\n",
    "            hess = torch.autograd.grad(g, net.parameters(), retain_graph=True)\n",
    "            #hess_flat = torch.cat([h.view(-1) for h in hess])\n",
    "            hess_flat = torch.cat([h.T.reshape(-1,1) for h in hess])\n",
    "            hessian_per_param.append(hess_flat)\n",
    "    \n",
    "        # Stack second derivatives into a matrix (Hessian)\n",
    "        hessian.append(torch.stack(hessian_per_param))\n",
    "    \n",
    "    Hess = torch.cat([h for h in hessian], dim=0)\n",
    "    avgHess += torch.squeeze(Hess)\n",
    "    \n",
    "    # Flatten gradients of all tensors (in column major order, Fortran style!)\n",
    "    with torch.no_grad():\n",
    "        grad_all = torch.cat([g.T.reshape(-1,1) for g in grads])\n",
    "    #grad_rec[:,iN] =  torch.squeeze(grad_all)\n",
    "    \n",
    "    #avggrad += grad_all\n",
    "    #covgrad += grad_all @ grad_all.T\n",
    "    \n",
    "    #Hgg += torch.squeeze(Hess) @ grad_all @ grad_all.T\n",
    "    \n",
    "    HU += torch.squeeze(Hess) @ isrcov @ (grad_all-avggrad) @ (grad_all-avggrad).T\n",
    "    \n",
    "    \n",
    "#avggrad /= N\n",
    "#covgrad /= N\n",
    "\n",
    "lossavg /= N\n",
    "\n",
    "#secgrad = torch.clone(covgrad)\n",
    "#covgrad = covgrad - avggrad @ avggrad.T\n",
    "\n",
    "avgHess /= N\n",
    "#Hgg /= N\n",
    "HU /= N\n"
   ]
  },
  {
   "cell_type": "code",
   "execution_count": 28,
   "id": "f4a27f68",
   "metadata": {},
   "outputs": [
    {
     "data": {
      "image/png": "[encoded data removed]",
      "text/plain": [
       "<Figure size 432x288 with 2 Axes>"
      ]
     },
     "metadata": {
      "needs_background": "light"
     },
     "output_type": "display_data"
    },
    {
     "data": {
      "image/png": "[encoded data removed]",
      "text/plain": [
       "<Figure size 432x288 with 2 Axes>"
      ]
     },
     "metadata": {
      "needs_background": "light"
     },
     "output_type": "display_data"
    }
   ],
   "source": [
    "\n",
    "#plt.imshow(Hgg)\n",
    "plt.imshow(HU)\n",
    "plt.colorbar()\n",
    "plt.show()\n",
    "\n",
    "\n",
    "#plt.imshow(avgHess @ secgrad)\n",
    "plt.imshow(avgHess @ srcov)\n",
    "plt.colorbar()\n",
    "plt.show()\n"
   ]
  },
  {
   "cell_type": "code",
   "execution_count": 29,
   "id": "55a8dba6",
   "metadata": {},
   "outputs": [
    {
     "data": {
      "image/png": "[encoded data removed]",
      "text/plain": [
       "<Figure size 432x288 with 1 Axes>"
      ]
     },
     "metadata": {
      "needs_background": "light"
     },
     "output_type": "display_data"
    }
   ],
   "source": [
    "\n",
    "#plt.scatter( Hgg , avgHess @ secgrad )\n",
    "plt.scatter( HU , avgHess @ srcov )\n",
    "plt.show()\n",
    "\n",
    "\n"
   ]
  },
  {
   "cell_type": "code",
   "execution_count": 33,
   "id": "f006dd83",
   "metadata": {},
   "outputs": [],
   "source": [
    "\n",
    "#evl, evc = np.linalg.eigh(avgHess)\n",
    "#iH = (evc * 1/evl) @ evc.T\n",
    "\n",
    "iH = np.linalg.inv(avgHess)\n"
   ]
  },
  {
   "cell_type": "code",
   "execution_count": 38,
   "id": "fd282622",
   "metadata": {},
   "outputs": [
    {
     "data": {
      "image/png": "[encoded data removed]",
      "text/plain": [
       "<Figure size 432x288 with 2 Axes>"
      ]
     },
     "metadata": {
      "needs_background": "light"
     },
     "output_type": "display_data"
    }
   ],
   "source": [
    "\n",
    "plt.imshow( iH @ HU.numpy() @ isrcov )\n",
    "plt.colorbar()\n",
    "plt.show()\n"
   ]
  },
  {
   "cell_type": "code",
   "execution_count": null,
   "id": "78fe09a0",
   "metadata": {},
   "outputs": [],
   "source": []
  },
  {
   "cell_type": "code",
   "execution_count": null,
   "id": "ebebe6cf",
   "metadata": {},
   "outputs": [],
   "source": []
  },
  {
   "cell_type": "code",
   "execution_count": null,
   "id": "27cd614c",
   "metadata": {},
   "outputs": [],
   "source": []
  }
 ],
 "metadata": {
  "kernelspec": {
   "display_name": "my-torch",
   "language": "python",
   "name": "my-torch"
  },
  "language_info": {
   "codemirror_mode": {
    "name": "ipython",
    "version": 3
   },
   "file_extension": ".py",
   "mimetype": "text/x-python",
   "name": "python",
   "nbconvert_exporter": "python",
   "pygments_lexer": "ipython3",
   "version": "3.6.13"
  }
 },
 "nbformat": 4,
 "nbformat_minor": 5
}
