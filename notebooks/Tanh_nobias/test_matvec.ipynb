{
 "cells": [
  {
   "cell_type": "code",
   "execution_count": 1,
   "id": "534715f8",
   "metadata": {},
   "outputs": [],
   "source": [
    "import numpy as np\n",
    "import matplotlib.pyplot as plt\n",
    "\n",
    "import symmetric_methods as sm\n"
   ]
  },
  {
   "cell_type": "code",
   "execution_count": 2,
   "id": "2ff57a45",
   "metadata": {},
   "outputs": [],
   "source": [
    "# MLP structure\n",
    "\n",
    "L = 3\n",
    "\n",
    "dim = np.zeros((L+1,))\n",
    "\n",
    "dim[0] = 9\n",
    "dim[1] = 7\n",
    "dim[2] = 5\n",
    "dim[3] = 7\n",
    "#dim[4] = 9\n",
    "#dim[5] = 8\n",
    "#dim[6] = 9\n",
    "#dim[7] = 10\n",
    "#dim[8] = 11\n",
    "#dim[9] = 12\n",
    "\n",
    "dim= dim.astype(int)\n"
   ]
  },
  {
   "cell_type": "code",
   "execution_count": 3,
   "id": "5d647a83",
   "metadata": {},
   "outputs": [],
   "source": [
    "# draw random parameters, test matrix vector product\n",
    "\n",
    "phi = np.random.normal(0,1,(L-2,))\n",
    "PHI1 = np.random.normal(0,1,(dim[0],dim[0]))\n",
    "PHI1 = PHI1 + PHI1.T\n",
    "PHIL = np.random.normal(0,1,(dim[L],dim[L]))\n",
    "PHIL = PHIL + PHIL.T\n",
    "PSI1 = []\n",
    "if L==2:\n",
    "    PSI1 = np.random.normal(0,1,(dim[0],dim[2]))\n",
    "    \n",
    "\n",
    "covg = sm.par2cov(L,dim,phi,PHI1,PSI1,PHIL)\n",
    "\n",
    "\n",
    "npar = 0\n",
    "for iL in range(L):\n",
    "    npar = npar + dim[iL] * dim[iL+1]\n",
    "npar = npar.astype(int)\n",
    "\n",
    "vecinp = np.random.normal(0,1,(npar,))\n",
    "\n",
    "vecoutest = sm.matvec(L,dim,phi,PHI1,PSI1,PHIL,vecinp) \n",
    "\n",
    "vecout = covg @ vecinp\n",
    "\n"
   ]
  },
  {
   "cell_type": "code",
   "execution_count": 4,
   "id": "075f3a5c",
   "metadata": {},
   "outputs": [
    {
     "data": {
      "image/png": "[encoded data removed]",
      "text/plain": [
       "<Figure size 640x480 with 1 Axes>"
      ]
     },
     "metadata": {},
     "output_type": "display_data"
    }
   ],
   "source": [
    "\n",
    "\n",
    "plt.plot(vecout,vecoutest,linestyle='none',marker='.')\n",
    "plt.show()\n",
    "\n",
    "\n",
    "\n"
   ]
  },
  {
   "cell_type": "code",
   "execution_count": null,
   "id": "24c2dfbd",
   "metadata": {},
   "outputs": [],
   "source": []
  }
 ],
 "metadata": {
  "kernelspec": {
   "display_name": "Python 3 (ipykernel)",
   "language": "python",
   "name": "python3"
  },
  "language_info": {
   "codemirror_mode": {
    "name": "ipython",
    "version": 3
   },
   "file_extension": ".py",
   "mimetype": "text/x-python",
   "name": "python",
   "nbconvert_exporter": "python",
   "pygments_lexer": "ipython3",
   "version": "3.9.13"
  }
 },
 "nbformat": 4,
 "nbformat_minor": 5
}
