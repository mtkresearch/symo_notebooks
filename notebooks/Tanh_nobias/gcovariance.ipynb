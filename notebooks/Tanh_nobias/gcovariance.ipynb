{
 "cells": [
  {
   "cell_type": "code",
   "execution_count": 1,
   "id": "1034b829",
   "metadata": {},
   "outputs": [],
   "source": [
    "import torch\n",
    "import torchvision\n",
    "import torchvision.transforms as transforms\n",
    "import numpy as np\n",
    "\n",
    "import matplotlib.pyplot as plt\n",
    "%matplotlib inline\n",
    "\n",
    "#import symmetric_methods as sm\n"
   ]
  },
  {
   "cell_type": "code",
   "execution_count": 2,
   "id": "5342729f",
   "metadata": {},
   "outputs": [
    {
     "name": "stdout",
     "output_type": "stream",
     "text": [
      "50\n"
     ]
    }
   ],
   "source": [
    "L=2\n",
    "\n",
    "dim = np.zeros((L+1,))\n",
    "\n",
    "dim[0] = 5\n",
    "dim[1] = 5\n",
    "dim[2] = 5\n",
    "#dim[3] = 6\n",
    "#dim[4] = 7\n",
    "#dim[5] = 5\n",
    "\n",
    "dim= dim.astype(int)\n",
    "\n",
    "npar = 0\n",
    "cpar = np.zeros((L+1,))\n",
    "for iL in range(L):\n",
    "    npar = npar + dim[iL] * dim[iL+1]\n",
    "    cpar[iL+1] = npar\n",
    "npar = npar.astype(int)\n",
    "cpar = cpar.astype(int)\n",
    "\n",
    "print(npar)\n",
    "    \n",
    "num_train_data = 500\n",
    "num_test_data = 500\n",
    "\n",
    "#num_train_data = 150\n",
    "#num_test_data = 150\n",
    "\n",
    "noise = 0"
   ]
  },
  {
   "cell_type": "markdown",
   "id": "68e3e0d6",
   "metadata": {},
   "source": [
    "### Create Neural Network"
   ]
  },
  {
   "cell_type": "code",
   "execution_count": 3,
   "id": "e5e8fe49",
   "metadata": {},
   "outputs": [
    {
     "name": "stdout",
     "output_type": "stream",
     "text": [
      "50\n"
     ]
    }
   ],
   "source": [
    "\n",
    "import torch.nn as nn\n",
    "import torch.nn.functional as F\n",
    "\n",
    "\n",
    "class Net(nn.Module):\n",
    "    def __init__(self):\n",
    "        super().__init__()\n",
    "        layers = [nn.Linear(dim[0],dim[1],bias=False)]\n",
    "        for iL in np.arange(1,L):\n",
    "            layers.append(nn.Tanh())\n",
    "            layers.append(nn.Linear(dim[iL],dim[iL+1],bias=False))        \n",
    "        self.layers = nn.Sequential(*layers)\n",
    "\n",
    "    def forward(self, x):\n",
    "        return self.layers(x)\n",
    "\n",
    "\n",
    "\n",
    "# Define a custom initialization function using Gaussian distribution\n",
    "def initialize_weights(m):\n",
    "    if isinstance(m, nn.Linear):\n",
    "        # Gaussian initialization \n",
    "        y = m.in_features\n",
    "        nn.init.normal_(m.weight, mean=0.0, std=1/np.sqrt(y)) \n",
    "\n",
    "\n",
    "net_teacher = Net()\n",
    "net_teacher.apply(initialize_weights)\n",
    "\n",
    "net = Net()\n",
    "net.apply(initialize_weights)\n",
    "\n",
    "net0 = Net()\n",
    "net0.load_state_dict(net.state_dict())\n",
    "\n",
    "num_parameters = sum(param.numel() for param in net.parameters())\n",
    "print(num_parameters)\n"
   ]
  },
  {
   "cell_type": "code",
   "execution_count": null,
   "id": "295a7206",
   "metadata": {},
   "outputs": [],
   "source": [
    "# print list of all parameter tensors\n",
    "print(list(net.parameters()))"
   ]
  },
  {
   "cell_type": "markdown",
   "id": "e88691c1",
   "metadata": {},
   "source": [
    "### Input data"
   ]
  },
  {
   "cell_type": "code",
   "execution_count": 4,
   "id": "dc0e6fb3",
   "metadata": {},
   "outputs": [],
   "source": [
    "# gradient on linear regression has D ~ (unif)^(1/(1-beta)) --> p(D) ~ D^(-beta) --> Loss(t) ~ t^(beta-2)\n",
    "\n",
    "D = np.logspace(0,-5,dim[0])\n",
    "#D = 1./(np.linspace(1,1000,dim[0])**2)\n",
    "#D = np.linspace(0,1,dim[0])**2\n",
    "\n",
    "Sigma, R = np.linalg.qr(np.random.normal(np.zeros((dim[0],dim[0])),1))\n",
    "Sigma = (Sigma * D) @ Sigma.T\n",
    "inputs_train = torch.from_numpy(np.random.multivariate_normal(np.zeros((dim[0],)),Sigma,size=(num_train_data,))).to(torch.float)\n",
    "inputs_test = torch.from_numpy(np.random.multivariate_normal(np.zeros((dim[0],)),Sigma,size=(num_test_data,))).to(torch.float)\n",
    "\n"
   ]
  },
  {
   "cell_type": "markdown",
   "id": "9ccde7cb",
   "metadata": {},
   "source": [
    "### Output data"
   ]
  },
  {
   "cell_type": "code",
   "execution_count": 5,
   "id": "9500eb35",
   "metadata": {},
   "outputs": [],
   "source": [
    "\n",
    "# teacher - student\n",
    "\n",
    "with torch.no_grad():\n",
    "    labels_train = net_teacher(inputs_train) + torch.from_numpy(noise * np.random.normal(np.zeros((num_train_data,dim[L])),1)).to(torch.float)  \n",
    "with torch.no_grad():\n",
    "    labels_test = net_teacher(inputs_test) + torch.from_numpy(noise * np.random.normal(np.zeros((num_test_data,dim[L])),1)).to(torch.float)\n",
    "\n",
    "\n"
   ]
  },
  {
   "cell_type": "markdown",
   "id": "6f83bad7",
   "metadata": {},
   "source": [
    "### Gradient statistics"
   ]
  },
  {
   "cell_type": "code",
   "execution_count": 6,
   "id": "4e558fff",
   "metadata": {},
   "outputs": [
    {
     "name": "stdout",
     "output_type": "stream",
     "text": [
      "100\n",
      "200\n",
      "300\n",
      "400\n",
      "500\n",
      "600\n",
      "700\n",
      "800\n",
      "900\n",
      "1000\n",
      "1100\n",
      "1200\n",
      "1300\n",
      "1400\n",
      "1500\n",
      "1600\n",
      "1700\n",
      "1800\n",
      "1900\n",
      "2000\n",
      "2100\n",
      "2200\n",
      "2300\n",
      "2400\n",
      "2500\n",
      "2600\n",
      "2700\n",
      "2800\n",
      "2900\n",
      "3000\n",
      "3100\n",
      "3200\n",
      "3300\n",
      "3400\n",
      "3500\n",
      "3600\n",
      "3700\n",
      "3800\n",
      "3900\n",
      "4000\n",
      "4100\n",
      "4200\n",
      "4300\n",
      "4400\n",
      "4500\n",
      "4600\n",
      "4700\n",
      "4800\n",
      "4900\n",
      "5000\n",
      "5100\n",
      "5200\n",
      "5300\n",
      "5400\n",
      "5500\n",
      "5600\n",
      "5700\n",
      "5800\n",
      "5900\n",
      "6000\n",
      "6100\n",
      "6200\n",
      "6300\n",
      "6400\n",
      "6500\n",
      "6600\n",
      "6700\n",
      "6800\n",
      "6900\n",
      "7000\n",
      "7100\n",
      "7200\n",
      "7300\n",
      "7400\n",
      "7500\n",
      "7600\n",
      "7700\n",
      "7800\n",
      "7900\n",
      "8000\n",
      "8100\n",
      "8200\n",
      "8300\n",
      "8400\n",
      "8500\n",
      "8600\n",
      "8700\n",
      "8800\n",
      "8900\n",
      "9000\n",
      "9100\n",
      "9200\n",
      "9300\n",
      "9400\n",
      "9500\n",
      "9600\n",
      "9700\n",
      "9800\n",
      "9900\n",
      "10000\n"
     ]
    }
   ],
   "source": [
    "N = 10000\n",
    "num_updates = 0\n",
    "learning_rate = 0.01\n",
    "\n",
    "avggrad = torch.zeros(num_parameters,1)\n",
    "covgrad = torch.zeros(num_parameters,num_parameters)\n",
    "grad_rec = torch.zeros(num_parameters,N)\n",
    "\n",
    "lossavg = torch.zeros(num_updates+1,)\n",
    "\n",
    "for iN in np.arange(0,N):\n",
    "    \n",
    "    if (iN+1)%(N/100)==0:\n",
    "        print(iN+1)\n",
    "    \n",
    "    net.apply(initialize_weights)\n",
    "\n",
    "    # Forward pass\n",
    "    outputs_train = net(inputs_train)\n",
    "\n",
    "    # Compute the loss\n",
    "    loss = torch.norm(outputs_train-labels_train)**2 / num_train_data / 2\n",
    "    with torch.no_grad():\n",
    "        lossavg[0] = lossavg[0] + loss\n",
    "\n",
    "    # Compute first-order gradients (Jacobian)\n",
    "    grads = torch.autograd.grad(loss, net.parameters())        \n",
    "        \n",
    "    for upd in range(num_updates):\n",
    "        \n",
    "        with torch.no_grad():  # Disable gradient computation for manual update\n",
    "            for param, grad in zip(net.parameters(), grads):\n",
    "                param -= learning_rate * grad\n",
    "    \n",
    "        outputs_train = net(inputs_train)\n",
    "        loss = torch.norm(outputs_train-labels_train)**2 / num_train_data / 2\n",
    "        grads = torch.autograd.grad(loss, net.parameters())\n",
    "        \n",
    "        with torch.no_grad():\n",
    "            lossavg[upd+1] = lossavg[upd+1] + loss\n",
    "    \n",
    "    # Flatten gradients of all tensors (in column major order, Fortran style!)\n",
    "    grad_all = torch.cat([g.T.reshape(-1,1) for g in grads])\n",
    "    grad_rec[:,iN] =  torch.squeeze(grad_all)\n",
    "    \n",
    "    avggrad += grad_all\n",
    "    covgrad += grad_all @ grad_all.T\n",
    "    \n",
    "avggrad /= N\n",
    "covgrad /= N\n",
    "\n",
    "lossavg /= N\n",
    "\n",
    "covgrad = covgrad - avggrad @ avggrad.T\n"
   ]
  },
  {
   "cell_type": "code",
   "execution_count": 7,
   "id": "ff99273c",
   "metadata": {},
   "outputs": [
    {
     "data": {
      "image/png": "[encoded data removed]",
      "text/plain": [
       "<Figure size 432x288 with 1 Axes>"
      ]
     },
     "metadata": {
      "needs_background": "light"
     },
     "output_type": "display_data"
    }
   ],
   "source": [
    "\n",
    "plt.plot(lossavg)\n",
    "plt.show()\n"
   ]
  },
  {
   "cell_type": "code",
   "execution_count": 11,
   "id": "ff159dc0",
   "metadata": {},
   "outputs": [
    {
     "data": {
      "image/png": "[encoded data removed]",
      "text/plain": [
       "<Figure size 1080x1080 with 1 Axes>"
      ]
     },
     "metadata": {
      "needs_background": "light"
     },
     "output_type": "display_data"
    },
    {
     "data": {
      "image/png": "[encoded data removed]",
      "text/plain": [
       "<Figure size 1080x1080 with 2 Axes>"
      ]
     },
     "metadata": {
      "needs_background": "light"
     },
     "output_type": "display_data"
    }
   ],
   "source": [
    "\n",
    "plt.plot(avggrad)\n",
    "#plt.plot(grad_all)\n",
    "fig = plt.gcf()\n",
    "fig.set_size_inches(15, 15)\n",
    "#plt.ylim((-10,10))\n",
    "plt.show()\n",
    "\n",
    "plt.imshow(covgrad)\n",
    "plt.colorbar()\n",
    "plt.clim((-0.075,0.075))\n",
    "fig = plt.gcf()\n",
    "fig.set_size_inches(15, 15)\n",
    "plt.show()\n",
    "\n"
   ]
  },
  {
   "cell_type": "code",
   "execution_count": null,
   "id": "9b91a045",
   "metadata": {},
   "outputs": [],
   "source": []
  },
  {
   "cell_type": "code",
   "execution_count": null,
   "id": "a28dd71f",
   "metadata": {},
   "outputs": [],
   "source": [
    "\n",
    "jN = 6\n",
    "\n",
    "plt.plot(grad_rec[:,jN])\n",
    "plt.show()\n",
    "\n",
    "for iL in range(L):\n",
    "    plt.imshow(np.reshape(grad_rec[cpar[iL]:cpar[iL+1],jN],(dim[iL+1],dim[iL]+1),order='F'))\n",
    "    plt.colorbar()\n",
    "    plt.show()\n",
    "\n",
    "\n",
    "\n",
    "\n"
   ]
  },
  {
   "cell_type": "code",
   "execution_count": null,
   "id": "ca12bc37",
   "metadata": {},
   "outputs": [],
   "source": []
  },
  {
   "cell_type": "code",
   "execution_count": null,
   "id": "f3838987",
   "metadata": {},
   "outputs": [],
   "source": []
  },
  {
   "cell_type": "code",
   "execution_count": null,
   "id": "479f7678",
   "metadata": {},
   "outputs": [],
   "source": []
  },
  {
   "cell_type": "code",
   "execution_count": null,
   "id": "98111841",
   "metadata": {},
   "outputs": [],
   "source": []
  },
  {
   "cell_type": "code",
   "execution_count": null,
   "id": "0ab7bc9c",
   "metadata": {},
   "outputs": [],
   "source": []
  },
  {
   "cell_type": "code",
   "execution_count": null,
   "id": "e6126b9f",
   "metadata": {},
   "outputs": [],
   "source": []
  },
  {
   "cell_type": "code",
   "execution_count": null,
   "id": "d1fb41d0",
   "metadata": {},
   "outputs": [],
   "source": []
  },
  {
   "cell_type": "code",
   "execution_count": null,
   "id": "e054b360",
   "metadata": {},
   "outputs": [],
   "source": []
  },
  {
   "cell_type": "code",
   "execution_count": null,
   "id": "fdfd0b5a",
   "metadata": {},
   "outputs": [],
   "source": [
    "\n",
    "wd, wt, wo = sm.cov2par(L,dim,covgrad.numpy())\n",
    "\n",
    "print(wd)\n",
    "\n",
    "print(wt)\n",
    "\n",
    "print(wo)\n"
   ]
  },
  {
   "cell_type": "code",
   "execution_count": null,
   "id": "e0bf3567",
   "metadata": {},
   "outputs": [],
   "source": [
    "\n",
    "evl, evc = np.linalg.eigh(covgrad)\n",
    "\n",
    "plt.plot(evl,linestyle='none',marker='.')\n",
    "plt.yscale('log')\n",
    "#plt.ylim((10**(2),10**(6)))\n",
    "plt.show()\n",
    "\n",
    "print(evl)\n"
   ]
  },
  {
   "cell_type": "code",
   "execution_count": null,
   "id": "98e7fa40",
   "metadata": {},
   "outputs": [],
   "source": [
    "\n",
    "for iL in range(L):\n",
    "    print(torch.mean(grad_all[cpar[iL]:cpar[iL+1]]))\n"
   ]
  },
  {
   "cell_type": "code",
   "execution_count": null,
   "id": "26b4d08d",
   "metadata": {},
   "outputs": [],
   "source": [
    "\n",
    "covg = sm.par2cov(L,dim,wd,wt,wo)\n",
    "\n",
    "dim_small = np.zeros((L+1,))\n",
    "for iL in range(L+1):\n",
    "    dim_small[iL] = 2\n",
    "dim_small = dim_small.astype(int)\n",
    "\n",
    "covg_small = sm.par2cov(L,dim_small,wd,wt,wo)\n",
    "\n",
    "\n",
    "\n",
    "\n"
   ]
  },
  {
   "cell_type": "code",
   "execution_count": null,
   "id": "e829f97e",
   "metadata": {},
   "outputs": [],
   "source": [
    "\n",
    "plt.imshow(covg)\n",
    "plt.colorbar()\n",
    "plt.clim((-10000,10000))\n",
    "fig = plt.gcf()\n",
    "fig.set_size_inches(10, 10)\n",
    "plt.show()\n",
    "\n",
    "\n",
    "plt.imshow(covg_small)\n",
    "plt.colorbar()\n",
    "plt.clim((-35000,35000))\n",
    "fig = plt.gcf()\n",
    "fig.set_size_inches(10, 10)\n",
    "plt.show()\n",
    "\n",
    "\n",
    "\n"
   ]
  },
  {
   "cell_type": "code",
   "execution_count": null,
   "id": "c55ee474",
   "metadata": {},
   "outputs": [],
   "source": []
  },
  {
   "cell_type": "code",
   "execution_count": null,
   "id": "0e195b46",
   "metadata": {},
   "outputs": [],
   "source": [
    "\n",
    "evl, evc = np.linalg.eig([[0,0,1],[0,1,0],[1,0,0]])\n",
    "\n",
    "print(evl)\n",
    "\n",
    "print(evc)\n",
    "\n",
    "\n"
   ]
  },
  {
   "cell_type": "code",
   "execution_count": null,
   "id": "d9fc1953",
   "metadata": {},
   "outputs": [],
   "source": []
  }
 ],
 "metadata": {
  "kernelspec": {
   "display_name": "my-torch",
   "language": "python",
   "name": "my-torch"
  },
  "language_info": {
   "codemirror_mode": {
    "name": "ipython",
    "version": 3
   },
   "file_extension": ".py",
   "mimetype": "text/x-python",
   "name": "python",
   "nbconvert_exporter": "python",
   "pygments_lexer": "ipython3",
   "version": "3.6.13"
  }
 },
 "nbformat": 4,
 "nbformat_minor": 5
}
