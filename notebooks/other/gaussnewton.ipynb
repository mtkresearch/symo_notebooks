{
 "cells": [
  {
   "cell_type": "code",
   "execution_count": 1,
   "id": "1034b829",
   "metadata": {},
   "outputs": [],
   "source": [
    "import torch\n",
    "import torchvision\n",
    "import torchvision.transforms as transforms\n",
    "import numpy as np\n",
    "\n",
    "import matplotlib.pyplot as plt\n",
    "%matplotlib inline\n"
   ]
  },
  {
   "cell_type": "code",
   "execution_count": 2,
   "id": "5342729f",
   "metadata": {},
   "outputs": [
    {
     "name": "stdout",
     "output_type": "stream",
     "text": [
      "125\n"
     ]
    }
   ],
   "source": [
    "L=5\n",
    "\n",
    "dim = np.zeros((L+1,))\n",
    "\n",
    "dim[0] = 5\n",
    "dim[1] = 5\n",
    "dim[2] = 5\n",
    "dim[3] = 5\n",
    "dim[4] = 5\n",
    "dim[5] = 5\n",
    "\n",
    "dim= dim.astype(int)\n",
    "\n",
    "npar = 0\n",
    "cpar = np.zeros((L+1,))\n",
    "for iL in range(L):\n",
    "    npar = npar + dim[iL] * dim[iL+1]\n",
    "    cpar[iL+1] = npar\n",
    "npar = npar.astype(int)\n",
    "cpar = cpar.astype(int)\n",
    "\n",
    "print(npar)\n",
    "    \n",
    "num_train_data = 500\n",
    "num_test_data = 500\n",
    "\n",
    "#num_train_data = 150\n",
    "#num_test_data = 150\n",
    "\n",
    "noise = 0"
   ]
  },
  {
   "cell_type": "markdown",
   "id": "68e3e0d6",
   "metadata": {},
   "source": [
    "### Create Neural Network"
   ]
  },
  {
   "cell_type": "code",
   "execution_count": 3,
   "id": "e5e8fe49",
   "metadata": {},
   "outputs": [
    {
     "name": "stdout",
     "output_type": "stream",
     "text": [
      "125\n"
     ]
    }
   ],
   "source": [
    "\n",
    "import torch.nn as nn\n",
    "import torch.nn.functional as F\n",
    "\n",
    "\n",
    "# No bias with ReLU implies homogeneous function of the input \n",
    "class Net(nn.Module):\n",
    "    def __init__(self):\n",
    "        super().__init__()\n",
    "        layers = [nn.Linear(dim[0],dim[1],bias=False)]\n",
    "        for iL in np.arange(1,L):\n",
    "            layers.append(nn.ReLU())\n",
    "            layers.append(nn.Linear(dim[iL],dim[iL+1],bias=False))        \n",
    "        self.layers = nn.Sequential(*layers)\n",
    "\n",
    "    def forward(self, x):\n",
    "        return self.layers(x)\n",
    "\n",
    "\n",
    "\n",
    "# Define a custom initialization function using Gaussian distribution\n",
    "def initialize_weights(m):\n",
    "    if isinstance(m, nn.Linear):\n",
    "        # Gaussian initialization \n",
    "        y = m.in_features\n",
    "        nn.init.normal_(m.weight, mean=0.0, std=1/np.sqrt(y)) \n",
    "        #nn.init.normal_(m.bias, mean=0.0, std=1.0)  \n",
    "\n",
    "\n",
    "#net_teacher = Net()\n",
    "#net_teacher.apply(initialize_weights)\n",
    "\n",
    "net = Net()\n",
    "net.apply(initialize_weights)\n",
    "\n",
    "net0 = Net()\n",
    "net0.load_state_dict(net.state_dict())\n",
    "\n",
    "num_parameters = sum(param.numel() for param in net.parameters())\n",
    "print(num_parameters)\n"
   ]
  },
  {
   "cell_type": "code",
   "execution_count": null,
   "id": "295a7206",
   "metadata": {},
   "outputs": [],
   "source": [
    "# print list of all parameter tensors\n",
    "print(list(net.parameters()))"
   ]
  },
  {
   "cell_type": "markdown",
   "id": "e88691c1",
   "metadata": {},
   "source": [
    "### Input data"
   ]
  },
  {
   "cell_type": "code",
   "execution_count": 4,
   "id": "dc0e6fb3",
   "metadata": {},
   "outputs": [],
   "source": [
    "\n",
    "#Sigma, R = np.linalg.qr(np.random.normal(np.zeros((dim[0],dim[0])),1))\n",
    "#Sigma = Sigma @ np.diag(np.logspace(0,-3,dim[0])) @ Sigma.T\n",
    "#inputs_train = torch.from_numpy(np.random.multivariate_normal(np.zeros((dim[0],)),Sigma,size=(num_train_data,))).to(torch.float)\n",
    "#inputs_test = torch.from_numpy(np.random.multivariate_normal(np.zeros((dim[0],)),Sigma,size=(num_test_data,))).to(torch.float)\n",
    "\n",
    "inputs_train =  torch.rand((num_train_data,1))# @ torch.ones((1, dim[0]))\n",
    "inputs_test = torch.rand((num_test_data,1))# @ torch.ones((1, dim[0]))\n",
    "\n",
    "\n",
    "\n"
   ]
  },
  {
   "cell_type": "markdown",
   "id": "01d025ab",
   "metadata": {},
   "source": [
    "### Compute Jacobian"
   ]
  },
  {
   "cell_type": "code",
   "execution_count": null,
   "id": "1a051e6d",
   "metadata": {},
   "outputs": [],
   "source": [
    "\n",
    "outputs_train = net(inputs_train)\n",
    "outputs_vec = outputs_train.view(-1)\n",
    "\n",
    "external_grad = torch.eye(num_train_data)\n",
    "\n",
    "Jac = torch.zeros(num_train_data,num_parameters)\n",
    "for iout in range(num_train_data):\n",
    "    \n",
    "    net.zero_grad()\n",
    "\n",
    "    outputs_vec.backward(external_grad[iout],retain_graph=True)\n",
    "    \n",
    "    grad_vec = []\n",
    "    for param in net.parameters():\n",
    "        #grad_vec.append(param.grad.view(-1))\n",
    "        grad_vec.append(param.grad.T.reshape(-1,1))\n",
    "    grad_vec = torch.cat(grad_vec)\n",
    "    \n",
    "    Jac[iout,:] = grad_vec.T\n",
    "\n",
    "if num_train_data >= num_parameters:\n",
    "    U, S, V = torch.svd(Jac, some=False, compute_uv=True)\n",
    "    evl = torch.zeros(num_train_data,1)\n",
    "    evl[:num_parameters,:] = S.unsqueeze(1)\n",
    "\n",
    "if num_train_data < num_parameters:\n",
    "    U, S, V = torch.svd(Jac, some=True, compute_uv=True)\n",
    "    evl = S**2\n",
    "    evl = evl.unsqueeze(1)\n",
    "\n",
    "    "
   ]
  },
  {
   "cell_type": "code",
   "execution_count": null,
   "id": "07408e09",
   "metadata": {},
   "outputs": [],
   "source": [
    "\n",
    "plt.plot(S,marker='o')\n",
    "plt.yscale('log')\n",
    "plt.show()\n",
    "\n",
    "plt.imshow(Jac.T@Jac)\n",
    "plt.colorbar()\n",
    "plt.clim((-10,10))\n",
    "plt.show()\n"
   ]
  },
  {
   "cell_type": "code",
   "execution_count": null,
   "id": "8ca56d36",
   "metadata": {},
   "outputs": [],
   "source": []
  }
 ],
 "metadata": {
  "kernelspec": {
   "display_name": "my-torch",
   "language": "python",
   "name": "my-torch"
  },
  "language_info": {
   "codemirror_mode": {
    "name": "ipython",
    "version": 3
   },
   "file_extension": ".py",
   "mimetype": "text/x-python",
   "name": "python",
   "nbconvert_exporter": "python",
   "pygments_lexer": "ipython3",
   "version": "3.6.13"
  }
 },
 "nbformat": 4,
 "nbformat_minor": 5
}
